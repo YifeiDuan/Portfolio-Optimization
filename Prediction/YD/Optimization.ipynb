{
 "cells": [
  {
   "cell_type": "markdown",
   "metadata": {},
   "source": [
    "# 0. Prepare Env and Data"
   ]
  },
  {
   "cell_type": "code",
   "execution_count": 1,
   "metadata": {},
   "outputs": [],
   "source": [
    "using CSV, DataFrames, JuMP, Gurobi, Ipopt, LinearAlgebra, Plots, Random"
   ]
  },
  {
   "cell_type": "code",
   "execution_count": 2,
   "metadata": {},
   "outputs": [
    {
     "name": "stdout",
     "output_type": "stream",
     "text": [
      "Set parameter Username\r\n",
      "Academic license - for non-commercial use only - expires 2023-09-03\r\n"
     ]
    },
    {
     "data": {
      "text/plain": [
       "Gurobi.Env(Ptr{Nothing} @0x00000000d7f8c1f0, false, 0)"
      ]
     },
     "execution_count": 2,
     "metadata": {},
     "output_type": "execute_result"
    }
   ],
   "source": [
    "const GRB_ENV = Gurobi.Env()"
   ]
  },
  {
   "cell_type": "code",
   "execution_count": 3,
   "metadata": {},
   "outputs": [],
   "source": [
    "# Risk = CSV.read(\"Risk_cov - SDP.csv\", DataFrame,header=0);\n",
    "Risk = CSV.read(\"Risk_cov.csv\", DataFrame, header=0);\n",
    "Return = CSV.read(\"Return_mean.csv\", DataFrame, header=0);\n",
    "\n",
    "Risk = Matrix(Risk);\n",
    "Return_mean = Matrix(Return)[:, 1];\n",
    "Return_lower = Matrix(Return)[:, 2];\n",
    "Return_upper = Matrix(Return)[:, 3];"
   ]
  },
  {
   "cell_type": "code",
   "execution_count": 4,
   "metadata": {},
   "outputs": [
    {
     "data": {
      "text/html": [
       "<div class=\"data-frame\"><p>20 rows × 3 columns</p><table class=\"data-frame\"><thead><tr><th></th><th>Column1</th><th>Column2</th><th>Column3</th></tr><tr><th></th><th title=\"Float64\">Float64</th><th title=\"Float64\">Float64</th><th title=\"Float64\">Float64</th></tr></thead><tbody><tr><th>1</th><td>-0.69</td><td>-0.7</td><td>-0.66</td></tr><tr><th>2</th><td>-0.671</td><td>-0.7</td><td>-0.66</td></tr><tr><th>3</th><td>-0.671</td><td>-0.7</td><td>-0.66</td></tr><tr><th>4</th><td>-0.671</td><td>-0.7</td><td>-0.66</td></tr><tr><th>5</th><td>-0.671</td><td>-0.7</td><td>-0.66</td></tr><tr><th>6</th><td>0.247</td><td>0.23</td><td>0.28</td></tr><tr><th>7</th><td>0.252</td><td>0.23</td><td>0.28</td></tr><tr><th>8</th><td>-0.671</td><td>-0.7</td><td>-0.66</td></tr><tr><th>9</th><td>-0.671</td><td>-0.7</td><td>-0.66</td></tr><tr><th>10</th><td>-0.671</td><td>-0.7</td><td>-0.66</td></tr><tr><th>11</th><td>-0.671</td><td>-0.7</td><td>-0.66</td></tr><tr><th>12</th><td>-0.671</td><td>-0.7</td><td>-0.66</td></tr><tr><th>13</th><td>-0.0309</td><td>-0.032</td><td>0.0</td></tr><tr><th>14</th><td>-0.671</td><td>-0.7</td><td>-0.66</td></tr><tr><th>15</th><td>-0.625</td><td>-0.7</td><td>-0.6</td></tr><tr><th>16</th><td>-0.671</td><td>-0.7</td><td>-0.66</td></tr><tr><th>17</th><td>-0.671</td><td>-0.7</td><td>-0.66</td></tr><tr><th>18</th><td>-0.671</td><td>-0.7</td><td>-0.66</td></tr><tr><th>19</th><td>-0.671</td><td>-0.7</td><td>-0.66</td></tr><tr><th>20</th><td>-0.671</td><td>-0.7</td><td>-0.66</td></tr></tbody></table></div>"
      ],
      "text/latex": [
       "\\begin{tabular}{r|ccc}\n",
       "\t& Column1 & Column2 & Column3\\\\\n",
       "\t\\hline\n",
       "\t& Float64 & Float64 & Float64\\\\\n",
       "\t\\hline\n",
       "\t1 & -0.69 & -0.7 & -0.66 \\\\\n",
       "\t2 & -0.671 & -0.7 & -0.66 \\\\\n",
       "\t3 & -0.671 & -0.7 & -0.66 \\\\\n",
       "\t4 & -0.671 & -0.7 & -0.66 \\\\\n",
       "\t5 & -0.671 & -0.7 & -0.66 \\\\\n",
       "\t6 & 0.247 & 0.23 & 0.28 \\\\\n",
       "\t7 & 0.252 & 0.23 & 0.28 \\\\\n",
       "\t8 & -0.671 & -0.7 & -0.66 \\\\\n",
       "\t9 & -0.671 & -0.7 & -0.66 \\\\\n",
       "\t10 & -0.671 & -0.7 & -0.66 \\\\\n",
       "\t11 & -0.671 & -0.7 & -0.66 \\\\\n",
       "\t12 & -0.671 & -0.7 & -0.66 \\\\\n",
       "\t13 & -0.0309 & -0.032 & 0.0 \\\\\n",
       "\t14 & -0.671 & -0.7 & -0.66 \\\\\n",
       "\t15 & -0.625 & -0.7 & -0.6 \\\\\n",
       "\t16 & -0.671 & -0.7 & -0.66 \\\\\n",
       "\t17 & -0.671 & -0.7 & -0.66 \\\\\n",
       "\t18 & -0.671 & -0.7 & -0.66 \\\\\n",
       "\t19 & -0.671 & -0.7 & -0.66 \\\\\n",
       "\t20 & -0.671 & -0.7 & -0.66 \\\\\n",
       "\\end{tabular}\n"
      ],
      "text/plain": [
       "\u001b[1m20×3 DataFrame\u001b[0m\n",
       "\u001b[1m Row \u001b[0m│\u001b[1m Column1 \u001b[0m\u001b[1m Column2 \u001b[0m\u001b[1m Column3 \u001b[0m\n",
       "\u001b[1m     \u001b[0m│\u001b[90m Float64 \u001b[0m\u001b[90m Float64 \u001b[0m\u001b[90m Float64 \u001b[0m\n",
       "─────┼───────────────────────────\n",
       "   1 │ -0.69     -0.7      -0.66\n",
       "   2 │ -0.671    -0.7      -0.66\n",
       "   3 │ -0.671    -0.7      -0.66\n",
       "   4 │ -0.671    -0.7      -0.66\n",
       "   5 │ -0.671    -0.7      -0.66\n",
       "   6 │  0.247     0.23      0.28\n",
       "   7 │  0.252     0.23      0.28\n",
       "   8 │ -0.671    -0.7      -0.66\n",
       "   9 │ -0.671    -0.7      -0.66\n",
       "  10 │ -0.671    -0.7      -0.66\n",
       "  11 │ -0.671    -0.7      -0.66\n",
       "  12 │ -0.671    -0.7      -0.66\n",
       "  13 │ -0.0309   -0.032     0.0\n",
       "  14 │ -0.671    -0.7      -0.66\n",
       "  15 │ -0.625    -0.7      -0.6\n",
       "  16 │ -0.671    -0.7      -0.66\n",
       "  17 │ -0.671    -0.7      -0.66\n",
       "  18 │ -0.671    -0.7      -0.66\n",
       "  19 │ -0.671    -0.7      -0.66\n",
       "  20 │ -0.671    -0.7      -0.66"
      ]
     },
     "execution_count": 4,
     "metadata": {},
     "output_type": "execute_result"
    }
   ],
   "source": [
    "Return"
   ]
  },
  {
   "cell_type": "markdown",
   "metadata": {},
   "source": [
    "### test"
   ]
  },
  {
   "cell_type": "code",
   "execution_count": 5,
   "metadata": {},
   "outputs": [
    {
     "name": "stdout",
     "output_type": "stream",
     "text": [
      "30572.266417309205\n",
      "7.7458078100000005\n"
     ]
    }
   ],
   "source": [
    "println(sum(Return_mean' * Risk * Return_mean))\n",
    "println(sum(Return_mean .* Return_mean))"
   ]
  },
  {
   "cell_type": "code",
   "execution_count": 6,
   "metadata": {},
   "outputs": [
    {
     "name": "stdout",
     "output_type": "stream",
     "text": [
      "-17.274\n",
      "6005.8084\n",
      "Vector{Int64}"
     ]
    }
   ],
   "source": [
    "b = [0, 1, 2, 3, 0, 1, 2, 3, 0, 1, 2, 3, 0, 1, 2, 3, 0, 1, 2, 3]\n",
    "println(sum(b .* Return_mean))\n",
    "println(sum(b' * Risk * b))\n",
    "print(typeof(b))"
   ]
  },
  {
   "cell_type": "markdown",
   "metadata": {},
   "source": [
    "### Experiments"
   ]
  },
  {
   "cell_type": "code",
   "execution_count": 21,
   "metadata": {},
   "outputs": [],
   "source": [
    "# real\n",
    "return_real_org = CSV.read(\"Return_real.csv\", DataFrame)\n",
    "return_real = Matrix(return_real_org[:, 2:end])\n",
    "\n",
    "# benchmark\n",
    "return_benchmark_org = CSV.read(\"Return_benchmark.csv\", DataFrame)\n",
    "return_benchmark = Matrix(return_benchmark_org[:, 2:end])\n",
    "\n",
    "# forecast\n",
    "return_mean_org = CSV.read(\"Return_mean_RF.csv\", DataFrame)\n",
    "return_mean = Matrix(return_mean_org[:, 2:end])\n",
    "return_ub_org = CSV.read(\"Return_UB_RF.csv\", DataFrame, header=false)\n",
    "# return_ub = Matrix(return_ub_org[:, 2:end])\n",
    "return_ub = Matrix(return_ub_org)\n",
    "return_lb_org = CSV.read(\"Return_LB_RF.csv\", DataFrame, header=false)\n",
    "# return_lb = Matrix(return_lb_org[:, 2:end])\n",
    "return_lb = Matrix(return_lb_org)\n",
    "\n",
    "return_lstm_org = CSV.read(\"Return_mean_LSTM.csv\", DataFrame, header=0)\n",
    "return_lstm = Matrix(return_lstm_org)\n",
    "\n",
    "# forecast standard deviation\n",
    "std_org = CSV.read(\"Return_std.csv\", DataFrame)\n",
    "std_ = Matrix(std_org[:, 2:end])'\n",
    ";"
   ]
  },
  {
   "cell_type": "code",
   "execution_count": 22,
   "metadata": {},
   "outputs": [
    {
     "name": "stdout",
     "output_type": "stream",
     "text": [
      "size(return_mean) = (20, 30)\n",
      "size(return_ub) = (20, 30)\n",
      "size(return_lstm) = (20, 30)\n",
      "size(std_) = (20, 30)\n"
     ]
    }
   ],
   "source": [
    "@show size(return_mean)\n",
    "@show size(return_ub)\n",
    "@show size(return_lstm)\n",
    "@show size(std_)\n",
    ";"
   ]
  },
  {
   "cell_type": "code",
   "execution_count": 12,
   "metadata": {},
   "outputs": [],
   "source": [
    "# return_mean .<= return_ub"
   ]
  },
  {
   "cell_type": "code",
   "execution_count": 13,
   "metadata": {},
   "outputs": [],
   "source": [
    "# return_mean .>= return_lb"
   ]
  },
  {
   "cell_type": "markdown",
   "metadata": {},
   "source": [
    "# 1. Deterministic Optimization"
   ]
  },
  {
   "cell_type": "markdown",
   "metadata": {},
   "source": [
    "## 1.1 model_1: Risk as constraint, Return as objective"
   ]
  },
  {
   "cell_type": "code",
   "execution_count": 6,
   "metadata": {},
   "outputs": [
    {
     "data": {
      "text/plain": [
       "model_1 (generic function with 1 method)"
      ]
     },
     "execution_count": 6,
     "metadata": {},
     "output_type": "execute_result"
    }
   ],
   "source": [
    "function model_1(Risk::Matrix, Return::Matrix; Risk_Constraint::Float64)\n",
    "    n, n1 = size(Risk);\n",
    "    n2, _ = size(Return);\n",
    "    @assert n1 == n;\n",
    "    @assert n2 == n;\n",
    "    \n",
    "    # Create the model\n",
    "    model = Model(() -> Gurobi.Optimizer(GRB_ENV));\n",
    "\n",
    "    # Decision Variables\n",
    "    @variable(model, x[1:n] >= 0);\n",
    "\n",
    "    # Objective Function\n",
    "    @objective(model, Max, sum(Return[i] * x[i] for i=1:n));\n",
    "\n",
    "    # Constraints\n",
    "    # Risk\n",
    "    @constraint(model, risk, sum(x[i] * Risk[i,j] * x[j] for i=1:n, j=1:n) <= Risk_Constraint);\n",
    "    \n",
    "    return model, x;\n",
    "end"
   ]
  },
  {
   "cell_type": "code",
   "execution_count": 27,
   "metadata": {},
   "outputs": [
    {
     "name": "stdout",
     "output_type": "stream",
     "text": [
      "Gurobi Optimizer version 9.5.2 build v9.5.2rc0 (win64)\r\n",
      "Thread count: 4 physical cores, 8 logical processors, using up to 8 threads\r\n",
      "Optimize a model with 0 rows, 20 columns and 0 nonzeros\r\n",
      "Model fingerprint: 0xdb82ff1b\r\n",
      "Model has 1 quadratic constraint\r\n",
      "Coefficient statistics:\r\n",
      "  Matrix range     [0e+00, 0e+00]\r\n",
      "  QMatrix range    [3e-02, 3e+04]\r\n",
      "  Objective range  [3e-02, 7e-01]\r\n",
      "  Bounds range     [0e+00, 0e+00]\r\n",
      "  RHS range        [0e+00, 0e+00]\r\n",
      "  QRHS range       [1e+02, 1e+02]\r\n",
      "\r\n",
      "User-callback calls 14, time in user-callback 0.00 sec\r\n"
     ]
    },
    {
     "ename": "LoadError",
     "evalue": "Gurobi Error 10020: Constraint Q not PSD (diagonal adjustment of 4.9e+01 would be required). Set NonConvex parameter to 2 to solve model.",
     "output_type": "error",
     "traceback": [
      "Gurobi Error 10020: Constraint Q not PSD (diagonal adjustment of 4.9e+01 would be required). Set NonConvex parameter to 2 to solve model.",
      "",
      "Stacktrace:",
      "  [1] _check_ret",
      "    @ C:\\Users\\D\\.julia\\packages\\Gurobi\\VPomg\\src\\MOI_wrapper\\MOI_wrapper.jl:368 [inlined]",
      "  [2] _check_ret_GRBoptimize(model::Gurobi.Optimizer)",
      "    @ Gurobi C:\\Users\\D\\.julia\\packages\\Gurobi\\VPomg\\src\\MOI_wrapper\\MOI_wrapper.jl:385",
      "  [3] optimize!(model::Gurobi.Optimizer)",
      "    @ Gurobi C:\\Users\\D\\.julia\\packages\\Gurobi\\VPomg\\src\\MOI_wrapper\\MOI_wrapper.jl:2659",
      "  [4] optimize!",
      "    @ C:\\Users\\D\\.julia\\packages\\MathOptInterface\\MMUy6\\src\\Bridges\\bridge_optimizer.jl:376 [inlined]",
      "  [5] optimize!",
      "    @ C:\\Users\\D\\.julia\\packages\\MathOptInterface\\MMUy6\\src\\MathOptInterface.jl:87 [inlined]",
      "  [6] optimize!(m::MathOptInterface.Utilities.CachingOptimizer{MathOptInterface.Bridges.LazyBridgeOptimizer{Gurobi.Optimizer}, MathOptInterface.Utilities.UniversalFallback{MathOptInterface.Utilities.Model{Float64}}})",
      "    @ MathOptInterface.Utilities C:\\Users\\D\\.julia\\packages\\MathOptInterface\\MMUy6\\src\\Utilities\\cachingoptimizer.jl:316",
      "  [7] optimize!(model::Model; ignore_optimize_hook::Bool, _differentiation_backend::MathOptInterface.Nonlinear.SparseReverseMode, kwargs::Base.Pairs{Symbol, Union{}, Tuple{}, NamedTuple{(), Tuple{}}})",
      "    @ JuMP C:\\Users\\D\\.julia\\packages\\JuMP\\UqjgA\\src\\optimizer_interface.jl:185",
      "  [8] optimize!",
      "    @ C:\\Users\\D\\.julia\\packages\\JuMP\\UqjgA\\src\\optimizer_interface.jl:155 [inlined]",
      "  [9] top-level scope",
      "    @ .\\timing.jl:383",
      " [10] eval",
      "    @ .\\boot.jl:368 [inlined]",
      " [11] include_string(mapexpr::typeof(REPL.softscope), mod::Module, code::String, filename::String)",
      "    @ Base .\\loading.jl:1428"
     ]
    }
   ],
   "source": [
    "buildtime_1 = @elapsed model1, x = model_1(Risk, Return_mean, Risk_Constraint=100.00);\n",
    "solvetime_1 = @elapsed optimize!(model1)\n",
    "@show buildtime_1\n",
    "@show solvetime_1"
   ]
  },
  {
   "cell_type": "markdown",
   "metadata": {},
   "source": [
    "## 1.2 model_2: Return as constraint, Risk as objective"
   ]
  },
  {
   "cell_type": "markdown",
   "metadata": {},
   "source": [
    "Indices:\n",
    "\n",
    "$$\n",
    "\\begin{align}\n",
    "i \\in I \\quad & \\text{Asset index} \\\\\n",
    "n = 20 \\quad & \\text{Number of company considered}\n",
    "\\end{align}\n",
    "$$\n",
    "\n",
    "Parameters/data:\n",
    "\n",
    "$$\n",
    "\\begin{align}\n",
    "\\sum \\quad & \\text{Covariance matrix of assets} \\\\\n",
    "\\bar{r} \\quad & \\text{Expected return by forecast models} \\\\\n",
    "R \\quad & \\text{Expected return lower limit} \\\\\n",
    "r^l \\quad & \\text{Lower bound of expected return with a $95\\%$ forecast confidence level} \\\\\n",
    "r^u \\quad & \\text{Upper bound of expected return with a $95\\%$ forecast confidence level} \\\\\n",
    "\\sigma \\quad & \\text{Forecast standard deviation of expected return with a given forecast confidence level} \\\\\n",
    "U_1=\\left\\{u\\in R^I, \\ r_i^l \\leq \\bar{r_i} + u_i \\leq r_i^u \\right\\} \\quad & \\text{Uncertainty set of element-wise expected return} \\\\\n",
    "U_2=\\left\\{u\\in R^I, \\ -\\Gamma \\sqrt{n} \\leq \\sum_{i\\in I} \\frac{u_i}{\\sigma_i} \\leq \\Gamma \\sqrt{n} \\right\\} \\quad & \\text{Uncertainty set with center limit theorem (use $\\Gamma=2$)} \\\\\n",
    "\\end{align}\n",
    "$$\n",
    "\n",
    "Decision variables:\n",
    "\n",
    "$$\n",
    "x \\quad \\text{Portfolio investment quantity}\n",
    "$$\n",
    "\n",
    "Formulation (deterministic):\n",
    "\n",
    "$$\n",
    "\\begin{align}\n",
    "\\min \\quad & x^T \\sum x \\\\\n",
    "\\text{s.t.} \\quad & \\bar{r}^T x \\geq R \\\\\n",
    "& x_i \\geq 0, \\ \\forall i \\in I \\\\\n",
    "\\end{align}\n",
    "$$\n",
    "\n",
    "Formulation (robust):\n",
    "\n",
    "$$\n",
    "\\begin{align}\n",
    "\\min \\quad & x^T \\sum x \\\\\n",
    "\\text{s.t.} \\quad & \\left(\\bar{r} + u\\right)^T x \\geq R, \\ u \\in U \\\\\n",
    "& x_i \\geq 0, \\ \\forall i \\in I \\\\\n",
    "\\end{align}\n",
    "$$\n",
    "\n",
    "Reformulation of robust optimization with uncertainty set $U_1$:\n",
    "\n",
    "$$\n",
    "\\begin{align}\n",
    "\\min \\quad & x^T \\sum x \\\\\n",
    "\\text{s.t.} \\quad & \\bar{r}^T x - p^T \\left(r^u - \\bar{r} \\right) - q^T \\left(r^l - \\bar{r} \\right) \\geq R \\\\\n",
    "& p + q = x \\\\\n",
    "& x_i, p_i \\geq 0, \\ q_i \\leq 0, \\ \\forall i \\in I \\\\\n",
    "\\end{align}\n",
    "$$\n",
    "\n",
    "Reformulation of robust optimization with uncertainty set $U_2$:\n",
    "\n",
    "$$\n",
    "\\begin{align}\n",
    "\\min \\quad & x^T \\sum x \\\\\n",
    "\\text{s.t.} \\quad & \\bar{r}^T x - \\Gamma \\sqrt{n} p + \\Gamma \\sqrt{n} q \\geq R \\\\\n",
    "& \\left(p + q\\right) \\sigma_i^{-1} = x_i, \\ \\forall i \\in I \\\\\n",
    "& x_i, p \\geq 0, \\ q \\leq 0, \\ \\forall i \\in I \\\\\n",
    "\\end{align}\n",
    "$$"
   ]
  },
  {
   "cell_type": "code",
   "execution_count": 71,
   "metadata": {},
   "outputs": [
    {
     "data": {
      "text/plain": [
       "model_2 (generic function with 2 methods)"
      ]
     },
     "execution_count": 71,
     "metadata": {},
     "output_type": "execute_result"
    }
   ],
   "source": [
    "function model_2(Risk::Matrix, Return::Vector; Return_Constraint::Float64, solver::String=\"ipopt\")\n",
    "#     n, n1 = size(Risk);\n",
    "#     n2, _ = size(Return);\n",
    "#     @assert n1 == n;\n",
    "#     @assert n2 == n;\n",
    "    \n",
    "    # n<=18, solverable with convex opt\n",
    "    n = 20\n",
    "    Risk = Risk[begin:n, begin:n]\n",
    "    Return = Return[begin:n]\n",
    "    \n",
    "    # Create the model\n",
    "    if solver == \"gurobi\"\n",
    "        model = Model(() -> Gurobi.Optimizer(GRB_ENV))\n",
    "        set_optimizer_attributes(model, \"NonConvex\" => 2, \"TimeLimit\" => 300);\n",
    "    else\n",
    "        model = Model(Ipopt.Optimizer)\n",
    "        set_optimizer_attributes(model, \"max_cpu_time\" => 60.0, \"print_level\" => 0)\n",
    "    end\n",
    "\n",
    "    # Decision Variables\n",
    "    @variable(model, x[1:n] >= 0);\n",
    "\n",
    "    # Objective Function\n",
    "    @objective(model, Min, x' * Risk * x);\n",
    "\n",
    "    # Constraints\n",
    "    # Return\n",
    "    @constraint(model, sum(Return .* x) >= Return_Constraint);\n",
    "    \n",
    "    return model, x;\n",
    "end"
   ]
  },
  {
   "cell_type": "code",
   "execution_count": 72,
   "metadata": {},
   "outputs": [
    {
     "name": "stdout",
     "output_type": "stream",
     "text": [
      "buildtime_2 = 0.0752892\n",
      "solvetime_2 = 0.0033427\n"
     ]
    },
    {
     "data": {
      "text/plain": [
       "0.0033427"
      ]
     },
     "execution_count": 72,
     "metadata": {},
     "output_type": "execute_result"
    }
   ],
   "source": [
    "buildtime_2 = @elapsed model2, x = model_2(Risk, Return_mean, Return_Constraint=0.20);\n",
    "solvetime_2 = @elapsed optimize!(model2)\n",
    "@show buildtime_2\n",
    "@show solvetime_2"
   ]
  },
  {
   "cell_type": "code",
   "execution_count": 204,
   "metadata": {},
   "outputs": [
    {
     "name": "stdout",
     "output_type": "stream",
     "text": [
      "i = 1\n",
      "buildtime_2 = 0.0003501\n",
      "solvetime_2 = 0.004293\n",
      "objective_value(model2) = 317.7727685791542\n",
      "i = 2\n",
      "buildtime_2 = 0.000234\n",
      "solvetime_2 = 0.0046483\n",
      "objective_value(model2) = 140.44167826665222\n",
      "i = 3\n",
      "buildtime_2 = 0.0001961\n",
      "solvetime_2 = 0.0036603\n",
      "objective_value(model2) = 189.79653248719174\n",
      "i = 4\n",
      "buildtime_2 = 0.0001837\n",
      "solvetime_2 = 0.0038578\n",
      "objective_value(model2) = 102.71253172907127\n",
      "i = 5\n",
      "buildtime_2 = 0.000182\n",
      "solvetime_2 = 0.0039969\n",
      "objective_value(model2) = 111.64060980092493\n",
      "i = 6\n",
      "buildtime_2 = 0.0002365\n",
      "solvetime_2 = 0.0038958\n",
      "objective_value(model2) = 130.26616781723664\n",
      "i = 7\n",
      "buildtime_2 = 0.0001968\n",
      "solvetime_2 = 0.0040355\n",
      "objective_value(model2) = 206.25843309338197\n",
      "i = 8\n",
      "buildtime_2 = 0.000193\n",
      "solvetime_2 = 0.0038324\n",
      "objective_value(model2) = 227.54036405702\n",
      "i = 9\n",
      "buildtime_2 = 0.0002303\n",
      "solvetime_2 = 0.0038128\n",
      "objective_value(model2) = 138.45002892900175\n",
      "i = 10\n",
      "buildtime_2 = 0.0002174\n",
      "solvetime_2 = 0.0044485\n",
      "objective_value(model2) = 138.60505636082806\n",
      "i = 11\n",
      "buildtime_2 = 0.0002391\n",
      "solvetime_2 = 0.0046088\n",
      "objective_value(model2) = 163.1847565859659\n",
      "i = 12\n",
      "buildtime_2 = 0.0002761\n",
      "solvetime_2 = 0.0046108\n",
      "objective_value(model2) = 180.8918261491017\n",
      "i = 13\n",
      "buildtime_2 = 0.0002473\n",
      "solvetime_2 = 0.0041377\n",
      "objective_value(model2) = 157.3427790831375\n",
      "i = 14\n",
      "buildtime_2 = 0.0002908\n",
      "solvetime_2 = 0.0039863\n",
      "objective_value(model2) = 99.63083454211325\n",
      "i = 15\n",
      "buildtime_2 = 0.0002752\n",
      "solvetime_2 = 0.0045851\n",
      "objective_value(model2) = 89.25977263929866\n",
      "i = 16\n",
      "buildtime_2 = 0.0001982\n",
      "solvetime_2 = 0.0036082\n",
      "objective_value(model2) = 46.33906506965147\n",
      "i = 17\n",
      "buildtime_2 = 0.0001986\n",
      "solvetime_2 = 0.0035157\n",
      "objective_value(model2) = 54.31698977048745\n",
      "i = 18\n",
      "buildtime_2 = 0.0001743\n",
      "solvetime_2 = 0.0038226\n",
      "objective_value(model2) = 52.55431496831828\n",
      "i = 19\n",
      "buildtime_2 = 0.0001968\n",
      "solvetime_2 = 0.0038733\n",
      "objective_value(model2) = 46.39418437300336\n",
      "i = 20\n",
      "buildtime_2 = 0.0001833\n",
      "solvetime_2 = 0.0045824\n",
      "objective_value(model2) = 21.455942596609518\n",
      "i = 21\n",
      "buildtime_2 = 0.000199\n",
      "solvetime_2 = 0.003711\n",
      "objective_value(model2) = 6.410812076471526\n",
      "i = 22\n",
      "buildtime_2 = 0.0002012\n",
      "solvetime_2 = 0.0039925\n",
      "objective_value(model2) = 5.116221993715266\n",
      "i = 23\n",
      "buildtime_2 = 0.0001966\n",
      "solvetime_2 = 0.0038201\n",
      "objective_value(model2) = 8.94694603192255\n",
      "i = 24\n",
      "buildtime_2 = 0.0001747\n",
      "solvetime_2 = 0.0038298\n",
      "objective_value(model2) = 792.7838758022317\n",
      "i = 25\n",
      "buildtime_2 = 0.0001828\n",
      "solvetime_2 = 0.0037356\n",
      "objective_value(model2) = 79.05550836440474\n",
      "i = 26\n",
      "buildtime_2 = 0.0001945\n",
      "solvetime_2 = 0.0039903\n",
      "objective_value(model2) = 5.369587343168251\n",
      "i = 27\n",
      "buildtime_2 = 0.0002133\n",
      "solvetime_2 = 0.0041281\n",
      "objective_value(model2) = 4.728389835773807\n",
      "i = 28\n",
      "buildtime_2 = 0.0002005\n",
      "solvetime_2 = 0.0046945\n",
      "objective_value(model2) = 5.474020325146405\n",
      "i = 29\n",
      "buildtime_2 = 0.0002179\n",
      "solvetime_2 = 0.0042859\n",
      "objective_value(model2) = 9.947416882099644\n",
      "i = 30\n",
      "buildtime_2 = 0.0002184\n",
      "solvetime_2 = 0.0043473\n",
      "objective_value(model2) = 7.569997912916406\n"
     ]
    }
   ],
   "source": [
    "res_benchmark = zeros(size(return_benchmark)[1], size(return_benchmark)[2])\n",
    "res_obj = zeros(size(return_benchmark)[2])\n",
    "\n",
    "for i in 1:size(return_benchmark)[2]\n",
    "    @show i\n",
    "    buildtime_2 = @elapsed model2, x = model_2(Risk, return_benchmark[:, i], Return_Constraint=0.05);\n",
    "    solvetime_2 = @elapsed optimize!(model2)\n",
    "    @show buildtime_2\n",
    "    @show solvetime_2\n",
    "    res_benchmark[:, i] = value.(x)\n",
    "    res_obj[i] = objective_value(model2)\n",
    "    @show objective_value(model2)\n",
    "end"
   ]
  },
  {
   "cell_type": "code",
   "execution_count": 208,
   "metadata": {},
   "outputs": [
    {
     "name": "stdout",
     "output_type": "stream",
     "text": [
      "sum(sum(res_benchmark .* return_real, dims = 1) .<= 0.0) / 30 = 0.5333333333333333\n",
      "sum(res_obj) / 30 = 118.00858044886667\n"
     ]
    },
    {
     "data": {
      "text/plain": [
       "118.00858044886667"
      ]
     },
     "execution_count": 208,
     "metadata": {},
     "output_type": "execute_result"
    }
   ],
   "source": [
    "sum(res_benchmark .* return_real, dims=1)\n",
    "@show sum(sum(res_benchmark .* return_real, dims=1) .<= 0.) / 30\n",
    "@show sum(res_obj)/30;"
   ]
  },
  {
   "cell_type": "code",
   "execution_count": 190,
   "metadata": {
    "scrolled": true
   },
   "outputs": [
    {
     "name": "stdout",
     "output_type": "stream",
     "text": [
      "sum(res_benchmark .* return_real, dims = 1) = [-0.3083774181679557 -0.2015440648828243 0.457453607339615 0.15852597045468278 0.08429897774809443 -0.09195669502375596 -0.11448510324630978 -0.04970740857086409 0.025245277126145927 -0.28218921633551336 -0.7619945769390999 -0.1519340634328124 0.2249243014728039 -0.21210090896465034 -0.18017151344678886 0.20792888782981736 -0.16892215978149108 -0.36442962628810144 0.8077640662651554 0.6167267005941021 0.8128134037621096 -0.2858777725687617 -0.24754161989565604 2.4614538048625363 1.6759563752220994 0.16840008384223912 -0.17442214704692766 -0.12675298422878445 0.7225213762479863 0.5284866542366428]\n"
     ]
    },
    {
     "data": {
      "text/plain": [
       "1×30 Matrix{Float64}:\n",
       " -0.308377  -0.201544  0.457454  0.158526  …  -0.126753  0.722521  0.528487"
      ]
     },
     "execution_count": 190,
     "metadata": {},
     "output_type": "execute_result"
    }
   ],
   "source": [
    "@show sum(res_benchmark .* return_real, dims=1)"
   ]
  },
  {
   "cell_type": "code",
   "execution_count": 209,
   "metadata": {},
   "outputs": [
    {
     "name": "stdout",
     "output_type": "stream",
     "text": [
      "i = 1\n",
      "buildtime_2 = 0.0003309\n",
      "solvetime_2 = 0.0046989\n",
      "objective_value(model2) = 44.73779747109608\n",
      "i = 2\n",
      "buildtime_2 = 0.0002533\n",
      "solvetime_2 = 0.0035783\n",
      "objective_value(model2) = 67.30525804372579\n",
      "i = 3\n",
      "buildtime_2 = 0.0003113\n",
      "solvetime_2 = 0.0033176\n",
      "objective_value(model2) = 3.0670874103334205\n",
      "i = 4\n",
      "buildtime_2 = 0.0001898\n",
      "solvetime_2 = 0.0046779\n",
      "objective_value(model2) = 0.02727092671733282\n",
      "i = 5\n",
      "buildtime_2 = 0.000193\n",
      "solvetime_2 = 0.0045788\n",
      "objective_value(model2) = 1.672200821411531\n",
      "i = 6\n",
      "buildtime_2 = 0.0002042\n",
      "solvetime_2 = 0.003441\n",
      "objective_value(model2) = 6.3651859468952745\n",
      "i = 7\n",
      "buildtime_2 = 0.000203\n",
      "solvetime_2 = 0.0042964\n",
      "objective_value(model2) = 1.8671434089532466\n",
      "i = 8\n",
      "buildtime_2 = 0.0001856\n",
      "solvetime_2 = 0.0041205\n",
      "objective_value(model2) = 2.5702912070135184\n",
      "i = 9\n",
      "buildtime_2 = 0.0001838\n",
      "solvetime_2 = 0.0040671\n",
      "objective_value(model2) = 0.12631799201919214\n",
      "i = 10\n",
      "buildtime_2 = 0.0002343\n",
      "solvetime_2 = 0.0037253\n",
      "objective_value(model2) = 6.676603730147235\n",
      "i = 11\n",
      "buildtime_2 = 0.0001862\n",
      "solvetime_2 = 0.0043284\n",
      "objective_value(model2) = 0.17287175222320722\n",
      "i = 12\n",
      "buildtime_2 = 0.0002628\n",
      "solvetime_2 = 0.0034615\n",
      "objective_value(model2) = 390.8464253075097\n",
      "i = 13\n",
      "buildtime_2 = 0.0003582\n",
      "solvetime_2 = 0.004358\n",
      "objective_value(model2) = 37.25442848557077\n",
      "i = 14\n",
      "buildtime_2 = 0.0003083\n",
      "solvetime_2 = 0.0047894\n",
      "objective_value(model2) = 0.9312949536673638\n",
      "i = 15\n",
      "buildtime_2 = 0.0002188\n",
      "solvetime_2 = 0.0061502\n",
      "objective_value(model2) = 6.244143305048747e-12\n",
      "i = 16\n",
      "buildtime_2 = 0.0002418\n",
      "solvetime_2 = 0.0038884\n",
      "objective_value(model2) = 48.0550337622339\n",
      "i = 17\n",
      "buildtime_2 = 0.0002772\n",
      "solvetime_2 = 0.0044431\n",
      "objective_value(model2) = 0.5920672421436965\n",
      "i = 18\n",
      "buildtime_2 = 0.000193\n",
      "solvetime_2 = 0.0054619\n",
      "objective_value(model2) = 6.349575069339105e-12\n",
      "i = 19\n",
      "buildtime_2 = 0.0001921\n",
      "solvetime_2 = 0.004813\n",
      "objective_value(model2) = 97.55344779122827\n",
      "i = 20\n",
      "buildtime_2 = 0.0002006\n",
      "solvetime_2 = 0.0043194\n",
      "objective_value(model2) = 0.0769481936344329\n",
      "i = 21\n",
      "buildtime_2 = 0.0001853\n",
      "solvetime_2 = 0.0037933\n",
      "objective_value(model2) = 0.0730371529943539\n",
      "i = 22\n",
      "buildtime_2 = 0.0001932\n",
      "solvetime_2 = 0.0049857\n",
      "objective_value(model2) = 0.025946056078387722\n",
      "i = 23\n",
      "buildtime_2 = 0.0002492\n",
      "solvetime_2 = 0.0042843\n",
      "objective_value(model2) = 1.8409236064603929\n",
      "i = 24\n",
      "buildtime_2 = 0.0002333\n",
      "solvetime_2 = 0.0039267\n",
      "objective_value(model2) = 3126.0808019775895\n",
      "i = 25\n",
      "buildtime_2 = 0.0001962\n",
      "solvetime_2 = 0.0038095\n",
      "objective_value(model2) = 0.4909689989470372\n",
      "i = 26\n",
      "buildtime_2 = 0.0001895\n",
      "solvetime_2 = 0.0039854\n",
      "objective_value(model2) = 0.0691312644636172\n",
      "i = 27\n",
      "buildtime_2 = 0.0002183\n",
      "solvetime_2 = 0.0039937\n",
      "objective_value(model2) = 0.28701094361691154\n",
      "i = 28\n",
      "buildtime_2 = 0.0002518\n",
      "solvetime_2 = 0.0037794\n",
      "objective_value(model2) = 58.49179959592591\n",
      "i = 29\n",
      "buildtime_2 = 0.000243\n",
      "solvetime_2 = 0.004417\n",
      "objective_value(model2) = 1.742145714975961\n",
      "i = 30\n",
      "buildtime_2 = 0.0002401\n",
      "solvetime_2 = 0.0043515\n",
      "objective_value(model2) = 0.16607949622374157\n"
     ]
    }
   ],
   "source": [
    "res_lstm = zeros(size(return_lstm)[1], size(return_lstm)[2])\n",
    "res_obj = zeros(size(return_lstm)[2])\n",
    "\n",
    "for i in 1:size(return_lstm)[2]\n",
    "    @show i\n",
    "    buildtime_2 = @elapsed model2, x = model_2(Risk, return_lstm[:, i], Return_Constraint=0.05);\n",
    "    solvetime_2 = @elapsed optimize!(model2)\n",
    "    @show buildtime_2\n",
    "    @show solvetime_2\n",
    "    res_lstm[:, i] = value.(x)\n",
    "    res_obj[i] = objective_value(model2)\n",
    "    @show objective_value(model2)\n",
    "end"
   ]
  },
  {
   "cell_type": "code",
   "execution_count": 210,
   "metadata": {},
   "outputs": [
    {
     "name": "stdout",
     "output_type": "stream",
     "text": [
      "sum(sum(res_lstm .* return_real, dims = 1) .<= 0.0) / 30 = 0.43333333333333335\n",
      "sum(res_obj) / 30 = 129.97218397512708\n"
     ]
    },
    {
     "data": {
      "text/plain": [
       "129.97218397512708"
      ]
     },
     "execution_count": 210,
     "metadata": {},
     "output_type": "execute_result"
    }
   ],
   "source": [
    "sum(res_lstm .* return_real, dims=1)\n",
    "@show sum(sum(res_lstm .* return_real, dims=1) .<= 0.) / 30\n",
    "@show sum(res_obj)/30"
   ]
  },
  {
   "cell_type": "code",
   "execution_count": 203,
   "metadata": {},
   "outputs": [
    {
     "name": "stdout",
     "output_type": "stream",
     "text": [
      "sum(res_lstm .* return_real, dims = 1) = [-0.2029270220126376 0.1554757464039938 0.09145636466281266 -0.02771456731495299 0.011459786255982873 -0.012909799344847182 -0.026290090017077626 0.21789311964857583 -0.043198243239499445 -0.028863018717023247 -0.0550097730970638 0.07092275707335066 -0.009746229788377515 0.007983720629232834 4.992075149552564e-10 -0.015759381734867225 -0.016351617265719452 4.912476620647045e-9 0.36201532548121595 0.05133105843684886 0.08682841138574746 -0.020355789387010624 -0.08441928938698591 0.32118619919835484 0.1159518752299802 0.01911598132841714 -0.042967287712559206 0.01851880777641786 0.28353712158764527 0.07719710056997546]\n"
     ]
    },
    {
     "data": {
      "text/plain": [
       "1×30 Matrix{Float64}:\n",
       " -0.202927  0.155476  0.0914564  …  0.0185188  0.283537  0.0771971"
      ]
     },
     "execution_count": 203,
     "metadata": {},
     "output_type": "execute_result"
    }
   ],
   "source": [
    "@show sum(res_lstm .* return_real, dims=1)"
   ]
  },
  {
   "cell_type": "markdown",
   "metadata": {},
   "source": []
  },
  {
   "cell_type": "code",
   "execution_count": 39,
   "metadata": {},
   "outputs": [
    {
     "data": {
      "text/plain": [
       "model_robust (generic function with 1 method)"
      ]
     },
     "execution_count": 39,
     "metadata": {},
     "output_type": "execute_result"
    }
   ],
   "source": [
    "function model_robust(Risk::Matrix, Return::Vector, LB::Vector, UB::Vector; Return_Constraint::Float64, solver::String=\"ipopt\")\n",
    "#     n, n1 = size(Risk);\n",
    "#     n2, _ = size(Return);\n",
    "#     @assert n1 == n;\n",
    "#     @assert n2 == n;\n",
    "    \n",
    "    # n<=18, solverable with convex opt\n",
    "    n = 20\n",
    "    Risk = Risk[begin:n, begin:n]\n",
    "    mean = Return[begin:n]\n",
    "    upper = UB[begin:n]\n",
    "    lower = LB[begin:n]\n",
    "    \n",
    "    # Create the model\n",
    "    if solver == \"gurobi\"\n",
    "        model = Model(() -> Gurobi.Optimizer(GRB_ENV))\n",
    "        set_optimizer_attributes(model, \"NonConvex\" => 2, \"TimeLimit\" => 300);\n",
    "    else\n",
    "        model = Model(Ipopt.Optimizer)\n",
    "        set_optimizer_attributes(model, \"max_cpu_time\"=> 60.0, \"print_level\" => 0)\n",
    "    end\n",
    "    \n",
    "    # Decision Variables\n",
    "    @variable(model, x[1:n] >= 0)\n",
    "    @variable(model, p[1:n] >= 0)\n",
    "    @variable(model, q[1:n] <= 0)\n",
    "\n",
    "    # Objective Function\n",
    "    @objective(model, Min, x' * Risk * x);\n",
    "\n",
    "    # Constraints\n",
    "    # Return\n",
    "    # @constraint(model, sum(Return .* x) >= Return_Constraint)\n",
    "    @constraint(model, sum(mean .* x) - sum(p .* (upper .- mean)) - sum(q .* (lower .- mean)) >= Return_Constraint)\n",
    "    @constraint(model, [i=1:n], p[i] + q[i] == x[i])\n",
    "    \n",
    "    return model, x;\n",
    "end"
   ]
  },
  {
   "cell_type": "code",
   "execution_count": 40,
   "metadata": {
    "scrolled": true
   },
   "outputs": [
    {
     "name": "stdout",
     "output_type": "stream",
     "text": [
      "buildtime_r = 0.4294583\n",
      "solvetime_r = 0.010465\n"
     ]
    },
    {
     "data": {
      "text/plain": [
       "0.010465"
      ]
     },
     "execution_count": 40,
     "metadata": {},
     "output_type": "execute_result"
    }
   ],
   "source": [
    "buildtime_r = @elapsed model_r, x = model_robust(Risk, Return_mean, Return_lower, Return_upper, Return_Constraint=0.20, solver=\"ipopt\");\n",
    "solvetime_r = @elapsed optimize!(model_r)\n",
    "@show buildtime_r\n",
    "@show solvetime_r"
   ]
  },
  {
   "cell_type": "code",
   "execution_count": 41,
   "metadata": {},
   "outputs": [
    {
     "name": "stdout",
     "output_type": "stream",
     "text": [
      "opt_x = value.(x) = [-9.941962468135873e-9, -9.356562758714078e-9, -9.8269965608822e-9, -9.834972606373807e-9, 0.004117853441897887, 0.2532463523925272, 0.6634533282233637, -9.647599534303717e-9, -9.650809357014615e-9, -9.715546820676875e-9, -9.647763318997856e-9, -9.672857960934387e-9, -7.418384644931496e-9, -9.71232451797163e-9, -9.611970913425577e-9, -9.645398998903712e-9, -9.720430070641989e-9, -9.65598582278162e-9, -9.682855430587847e-9, -9.567017239964322e-9]\n",
      "sum(opt_x .* Return_mean, dims = 1) = [0.2269791120016006]\n"
     ]
    },
    {
     "data": {
      "text/plain": [
       "1-element Vector{Float64}:\n",
       " 0.2269791120016006"
      ]
     },
     "execution_count": 41,
     "metadata": {},
     "output_type": "execute_result"
    }
   ],
   "source": [
    "@show opt_x = value.(x)\n",
    "@show sum(opt_x .* Return_mean, dims=1)"
   ]
  },
  {
   "cell_type": "code",
   "execution_count": 42,
   "metadata": {},
   "outputs": [
    {
     "name": "stdout",
     "output_type": "stream",
     "text": [
      "i = 1\n",
      "buildtime_r = 0.0088081\n",
      "solvetime_r = 0.0223572\n",
      "objective_value(model_r) = 1.1344451207989445e7\n",
      "i = 2\n",
      "buildtime_r = 0.0006491\n",
      "solvetime_r = 0.0213188\n",
      "objective_value(model_r) = 3.80489695330483e8\n",
      "i = 3\n",
      "buildtime_r = 0.0006045\n",
      "solvetime_r = 0.0170878\n",
      "objective_value(model_r) = 15.699456374670989\n",
      "i = 4\n",
      "buildtime_r = 0.0005656\n",
      "solvetime_r = 0.0171602\n",
      "objective_value(model_r) = 0.2999610601279826\n",
      "i = 5\n",
      "buildtime_r = 0.0005929\n",
      "solvetime_r = 0.0171497\n",
      "objective_value(model_r) = 27.686895117631636\n",
      "i = 6\n",
      "buildtime_r = 0.0004604\n",
      "solvetime_r = 0.0148474\n",
      "objective_value(model_r) = 452.11370570487577\n",
      "i = 7\n",
      "buildtime_r = 0.0005519\n",
      "solvetime_r = 0.0304401\n",
      "objective_value(model_r) = 2450.99327610822\n",
      "i = 8\n",
      "buildtime_r = 0.0005839\n",
      "solvetime_r = 0.0228417\n",
      "objective_value(model_r) = 96826.99853222547\n",
      "i = 9\n",
      "buildtime_r = 0.0004754\n",
      "solvetime_r = 0.0135722\n",
      "objective_value(model_r) = 2.5930591240645726\n",
      "i = 10\n",
      "buildtime_r = 0.0005781\n",
      "solvetime_r = 0.021034\n",
      "objective_value(model_r) = 1022.2975979047159\n",
      "i = 11\n",
      "buildtime_r = 0.0005393\n",
      "solvetime_r = 0.0145376\n",
      "objective_value(model_r) = 2.690092451561385\n",
      "i = 12\n",
      "buildtime_r = 0.0006567\n",
      "solvetime_r = 0.0308332\n",
      "objective_value(model_r) = 3819.513473667644\n",
      "i = 13\n",
      "buildtime_r = 0.0005989\n",
      "solvetime_r = 0.019629\n",
      "objective_value(model_r) = 527.6410717924393\n",
      "i = 14\n",
      "buildtime_r = 0.000326\n",
      "solvetime_r = 0.0176939\n",
      "objective_value(model_r) = 6.331916455405553\n",
      "i = 15\n",
      "buildtime_r = 0.0005372\n",
      "solvetime_r = 0.0395627\n",
      "objective_value(model_r) = 5.1879350214938194e-12\n",
      "i = 16\n",
      "buildtime_r = 0.0005886\n",
      "solvetime_r = 0.0146837\n",
      "objective_value(model_r) = 1674.6713284264688\n",
      "i = 17\n",
      "buildtime_r = 0.0003247\n",
      "solvetime_r = 0.0191182\n",
      "objective_value(model_r) = 8.374445825738882e-13\n",
      "i = 18\n",
      "buildtime_r = 0.0002148\n",
      "solvetime_r = 0.0298154\n",
      "objective_value(model_r) = 5.775691771117574e-12\n",
      "i = 19\n",
      "buildtime_r = 0.0003372\n",
      "solvetime_r = 0.0254852\n",
      "objective_value(model_r) = 5.22294938621759e-12\n",
      "i = 20\n",
      "buildtime_r = 0.0002361\n",
      "solvetime_r = 0.0094636\n",
      "objective_value(model_r) = 1.2376271204722098\n",
      "i = 21\n",
      "buildtime_r = 0.0003225\n",
      "solvetime_r = 0.010424\n",
      "objective_value(model_r) = 0.23771688924165094\n",
      "i = 22\n",
      "buildtime_r = 0.0003927\n",
      "solvetime_r = 0.0111225\n",
      "objective_value(model_r) = 60.126192598613265\n",
      "i = 23\n",
      "buildtime_r = 0.0002441\n",
      "solvetime_r = 0.0087924\n",
      "objective_value(model_r) = 35.600081202094415\n",
      "i = 24\n",
      "buildtime_r = 0.0002961\n",
      "solvetime_r = 0.0193201\n",
      "objective_value(model_r) = 5.242613540238608e-12\n",
      "i = 25\n",
      "buildtime_r = 0.0002913\n",
      "solvetime_r = 0.0084874\n",
      "objective_value(model_r) = 13.559998061054658\n",
      "i = 26\n",
      "buildtime_r = 0.0002124\n",
      "solvetime_r = 0.0100651\n",
      "objective_value(model_r) = 0.7238734626961936\n",
      "i = 27\n",
      "buildtime_r = 0.0004505\n",
      "solvetime_r = 0.0149091\n",
      "objective_value(model_r) = 4.3194983471112645\n",
      "i = 28\n",
      "buildtime_r = 0.0005893\n",
      "solvetime_r = 0.0266362\n",
      "objective_value(model_r) = 2.3441345568662158e-15\n",
      "i = 29\n",
      "buildtime_r = 0.0003454\n",
      "solvetime_r = 0.0273748\n",
      "objective_value(model_r) = 2.264983351526986e-16\n",
      "i = 30\n",
      "buildtime_r = 0.0006663\n",
      "solvetime_r = 0.0233906\n",
      "objective_value(model_r) = 1.9285850099835674e-15\n"
     ]
    }
   ],
   "source": [
    "res_mean = zeros(size(return_mean)[1], size(return_mean)[2])\n",
    "res_obj = zeros(size(return_mean)[2])\n",
    "\n",
    "for i in 1:size(return_benchmark)[2]\n",
    "    @show i\n",
    "    buildtime_r = @elapsed model_r, x = model_robust(Risk, return_mean[:, i], return_lb[:, i], return_ub[:, i], Return_Constraint=0.05);\n",
    "    solvetime_r = @elapsed optimize!(model_r)\n",
    "    @show buildtime_r\n",
    "    @show solvetime_r\n",
    "    res_mean[:, i] = value.(x)\n",
    "    res_obj[i] = objective_value(model_r)\n",
    "    @show objective_value(model_r)\n",
    "end"
   ]
  },
  {
   "cell_type": "code",
   "execution_count": 45,
   "metadata": {},
   "outputs": [
    {
     "name": "stdout",
     "output_type": "stream",
     "text": [
      "sum(res_mean .* return_mean, dims = 1) = [0.16015418514231392 0.7546014415479351 0.10456009896999974 0.0940513295260358 0.10663329506118682 0.20310225426394543 0.0936246978142851 0.07530891771944562 0.13708933697079032 0.17314561403498296 0.13528926079469697 0.10857931371440284 0.09447478468544186 0.12482413724445333 1.7635269768920512e-9 0.0841680726500781 3.3461971737723333e-10 2.440101563420648e-9 1.3010572688035946e-9 0.12157247348114193 0.07162233334001508 0.10917818412606502 0.07773197143629731 2.360890211407901e-9 0.0963012568796575 0.10033051675668035 0.07497994479584616 1.893872045036164e-11 1.1583623673914055e-11 5.380844050616696e-11]\n",
      "sum(sum(res_mean .* return_real, dims = 1) .<= 0.0) / 30 = 0.4666666666666667\n",
      "sum(res_obj) / 30 = 1.3064703062460888e7\n"
     ]
    }
   ],
   "source": [
    "res_mean\n",
    "@show sum(res_mean .* return_mean, dims=1)\n",
    "@show sum(sum(res_mean .* return_real, dims=1) .<= 0.00) / 30\n",
    "@show sum(res_obj)/30;"
   ]
  },
  {
   "cell_type": "code",
   "execution_count": 191,
   "metadata": {
    "scrolled": true
   },
   "outputs": [
    {
     "name": "stdout",
     "output_type": "stream",
     "text": [
      "sum(res_mean .* return_real, dims = 1) = [0.005731641071250034 -1.344834250356231 0.21980931185973743 -0.09191416600271204 0.060436562209429265 -0.1981585621657243 -0.04501048595896376 0.17100220384758397 -0.19499465845613673 -0.10198276665166142 -0.216806388782776 0.17343525957510206 0.01691875135885914 0.021045538640016025 6.490229931944388e-11 -0.09197173513192113 1.2270308889909324e-9 3.6261561709996055e-9 -2.2828001876020793e-9 0.20399282135992255 0.15660483037791956 -0.03887485174229487 -0.065003131465921 -1.8594732229960958e-9 0.16337390050629497 0.061130297327723813 -0.07787830124809939 1.5558466103157457e-11 4.979840772450617e-11 -2.0897247739996814e-12]\n"
     ]
    }
   ],
   "source": [
    "@show sum(res_mean .* return_real, dims=1);"
   ]
  },
  {
   "cell_type": "markdown",
   "metadata": {},
   "source": []
  },
  {
   "cell_type": "code",
   "execution_count": 32,
   "metadata": {},
   "outputs": [
    {
     "data": {
      "text/plain": [
       "model_robust_clt (generic function with 1 method)"
      ]
     },
     "execution_count": 32,
     "metadata": {},
     "output_type": "execute_result"
    }
   ],
   "source": [
    "function model_robust_clt(Risk::Matrix, Return::Vector, STD::Vector; Return_Constraint::Float64, solver::String=\"ipopt\")\n",
    "        \n",
    "    # n<=18, solverable with convex opt\n",
    "    n = 20\n",
    "    \n",
    "    Gamma = 2\n",
    "    sqrt_n = sqrt(n)\n",
    "\n",
    "    Risk = Risk[begin:n, begin:n]\n",
    "    mean = Return[begin:n]\n",
    "    std = STD[begin:n]\n",
    "    \n",
    "    # Create the model\n",
    "    if solver == \"gurobi\"\n",
    "        model = Model(() -> Gurobi.Optimizer(GRB_ENV))\n",
    "        set_optimizer_attributes(model, \"NonConvex\" => 2, \"TimeLimit\" => 300);\n",
    "    else\n",
    "        model = Model(Ipopt.Optimizer)\n",
    "        set_optimizer_attributes(model, \"max_cpu_time\"=> 60.0, \"print_level\" => 0)\n",
    "    end\n",
    "    \n",
    "    # Decision Variables\n",
    "    @variable(model, x[1:n] >= 0)\n",
    "    @variable(model, p >= 0)\n",
    "    @variable(model, q <= 0)\n",
    "\n",
    "    # Objective Function\n",
    "    @objective(model, Min, x' * Risk * x);\n",
    "\n",
    "    # Constraints\n",
    "    # Return\n",
    "    # @constraint(model, sum(Return .* x) >= Return_Constraint)\n",
    "    @constraint(model, sum(mean .* x) - Gamma * sqrt_n * p + Gamma * sqrt_n * q >= Return_Constraint)\n",
    "    @constraint(model, [i=1:n], std[i]^(-1) * (p + q) == x[i])\n",
    "    \n",
    "    return model, x;\n",
    "end"
   ]
  },
  {
   "cell_type": "code",
   "execution_count": 33,
   "metadata": {},
   "outputs": [
    {
     "name": "stdout",
     "output_type": "stream",
     "text": [
      "buildtime_r = 0.2840931\n",
      "solvetime_r = 0.0178712\n"
     ]
    },
    {
     "data": {
      "text/plain": [
       "0.0178712"
      ]
     },
     "execution_count": 33,
     "metadata": {},
     "output_type": "execute_result"
    }
   ],
   "source": [
    "buildtime_r = @elapsed model_r, x = model_robust_clt(Risk, Return_mean, std_[:,1], Return_Constraint=0.20, solver=\"ipopt\");\n",
    "solvetime_r = @elapsed optimize!(model_r)\n",
    "@show buildtime_r\n",
    "@show solvetime_r"
   ]
  },
  {
   "cell_type": "code",
   "execution_count": 34,
   "metadata": {
    "scrolled": true
   },
   "outputs": [
    {
     "name": "stdout",
     "output_type": "stream",
     "text": [
      "opt_x = value.(x) = [-6.7080614335797685e-9, -9.997916386208164e-9, -5.314929694229839e-9, -2.758442976725712e-9, -9.16652931379393e-9, -6.5068031299177e-9, -6.109125283124549e-9, -6.667247079528243e-9, -9.997916386208157e-9, -6.8755283496355145e-9, -9.999455736154791e-9, -2.772328219190158e-9, -3.999076858646436e-9, -6.0446918231861165e-9, -4.622587853297483e-9, -6.66724707952827e-9, -9.999424787979187e-9, -9.999456705854635e-9, -9.090826895487021e-9, -9.99945462252425e-9]\n",
      "sum(opt_x .* Return_mean, dims = 1) = [8.18953580817091e-8]\n"
     ]
    },
    {
     "data": {
      "text/plain": [
       "1-element Vector{Float64}:\n",
       " 8.18953580817091e-8"
      ]
     },
     "execution_count": 34,
     "metadata": {},
     "output_type": "execute_result"
    }
   ],
   "source": [
    "@show opt_x = value.(x)\n",
    "@show sum(opt_x .* Return_mean, dims=1)"
   ]
  },
  {
   "cell_type": "code",
   "execution_count": 35,
   "metadata": {},
   "outputs": [
    {
     "name": "stdout",
     "output_type": "stream",
     "text": [
      "i = 1\n",
      "buildtime_r = 0.00664\n",
      "solvetime_r = 0.0173821\n",
      "objective_value(model_r) = 4.824827808798204e-15\n",
      "i = 2\n",
      "buildtime_r = 0.0004072\n",
      "solvetime_r = 0.0168527\n",
      "objective_value(model_r) = 9.257183973088379e-18\n",
      "i = 3\n",
      "buildtime_r = 0.0006319\n",
      "solvetime_r = 0.0230409\n",
      "objective_value(model_r) = 3.2865629955518762e-15\n",
      "i = 4\n",
      "buildtime_r = 0.0005049\n",
      "solvetime_r = 0.0207889\n",
      "objective_value(model_r) = 2.5970349676729307e-15\n",
      "i = 5\n",
      "buildtime_r = 0.0003061\n",
      "solvetime_r = 0.0100456\n",
      "objective_value(model_r) = 521563.5050993641\n",
      "i = 6\n",
      "buildtime_r = 0.0004356\n",
      "solvetime_r = 0.0187648\n",
      "objective_value(model_r) = 8.666611300136899e-16\n",
      "i = 7\n",
      "buildtime_r = 0.0005354\n",
      "solvetime_r = 0.0252135\n",
      "objective_value(model_r) = 4.030313227464627e-16\n",
      "i = 8\n",
      "buildtime_r = 0.0006562\n",
      "solvetime_r = 0.0291321\n",
      "objective_value(model_r) = 1.6334815274316033e-17\n",
      "i = 9\n",
      "buildtime_r = 0.0005405\n",
      "solvetime_r = 0.0125572\n",
      "objective_value(model_r) = 104371.77499836888\n",
      "i = 10\n",
      "buildtime_r = 0.0005249\n",
      "solvetime_r = 0.0187948\n",
      "objective_value(model_r) = 4.671672711857276e-16\n",
      "i = 11\n",
      "buildtime_r = 0.0004447\n",
      "solvetime_r = 0.0193788\n",
      "objective_value(model_r) = 4.5048825170933646e-18\n",
      "i = 12\n",
      "buildtime_r = 0.000544\n",
      "solvetime_r = 0.0185731\n",
      "objective_value(model_r) = 1.088704628621906e-17\n",
      "i = 13\n",
      "buildtime_r = 0.0005828\n",
      "solvetime_r = 0.0252906\n",
      "objective_value(model_r) = 2.4441167737076817e-16\n",
      "i = 14\n",
      "buildtime_r = 0.0005347\n",
      "solvetime_r = 0.019212\n",
      "objective_value(model_r) = 1.533939255449956e-16\n",
      "i = 15\n",
      "buildtime_r = 0.0003249\n",
      "solvetime_r = 0.0196459\n",
      "objective_value(model_r) = 2.0228781194061294e-12\n",
      "i = 16\n",
      "buildtime_r = 0.000443\n",
      "solvetime_r = 0.0172506\n",
      "objective_value(model_r) = 2.369379150666723e-20\n",
      "i = 17\n",
      "buildtime_r = 0.0005471\n",
      "solvetime_r = 0.0311451\n",
      "objective_value(model_r) = 4.978819760319626e-19\n",
      "i = 18\n",
      "buildtime_r = 0.0005271\n",
      "solvetime_r = 0.0261598\n",
      "objective_value(model_r) = 1.156748569873143e-12\n",
      "i = 19\n",
      "buildtime_r = 0.0006132\n",
      "solvetime_r = 0.0197467\n",
      "objective_value(model_r) = 2.7622387192682053e-18\n",
      "i = 20\n",
      "buildtime_r = 0.000474\n",
      "solvetime_r = 0.0104309\n",
      "objective_value(model_r) = 8189.234150476425\n",
      "i = 21\n",
      "buildtime_r = 0.0004292\n",
      "solvetime_r = 0.0189026\n",
      "objective_value(model_r) = 7.939846389803804e-18\n",
      "i = 22\n",
      "buildtime_r = 0.0005067\n",
      "solvetime_r = 0.0304506\n",
      "objective_value(model_r) = 7.255980496272362e-17\n",
      "i = 23\n",
      "buildtime_r = 0.0005675\n",
      "solvetime_r = 0.0205773\n",
      "objective_value(model_r) = 2.3570474605292258e-17\n",
      "i = 24\n",
      "buildtime_r = 0.0002571\n",
      "solvetime_r = 0.016381\n",
      "objective_value(model_r) = 6.850703536156445e-13\n",
      "i = 25\n",
      "buildtime_r = 0.0002062\n",
      "solvetime_r = 0.0155568\n",
      "objective_value(model_r) = 1.300432303659907e-16\n",
      "i = 26\n",
      "buildtime_r = 0.0004992\n",
      "solvetime_r = 0.0359356\n",
      "objective_value(model_r) = 8.01602372360489e-17\n",
      "i = 27\n",
      "buildtime_r = 0.0007809\n",
      "solvetime_r = 0.031536\n",
      "objective_value(model_r) = 2.4340882963714662e-15\n",
      "i = 28\n",
      "buildtime_r = 0.0005561\n",
      "solvetime_r = 0.022809\n",
      "objective_value(model_r) = 4.028364732328012e-18\n",
      "i = 29\n",
      "buildtime_r = 0.0003694\n",
      "solvetime_r = 0.0238032\n",
      "objective_value(model_r) = 4.409776332955632e-18\n",
      "i = 30\n",
      "buildtime_r = 0.0004729\n",
      "solvetime_r = 0.0160054\n",
      "objective_value(model_r) = 1.3424019145717216e-17\n"
     ]
    }
   ],
   "source": [
    "res_mean = zeros(size(return_mean)[1], size(return_mean)[2])\n",
    "res_obj = zeros(size(return_mean)[2])\n",
    "\n",
    "for i in 1:size(return_benchmark)[2]\n",
    "    @show i\n",
    "    buildtime_r = @elapsed model_r, x = model_robust_clt(Risk, return_mean[:, i], std_[:, i], Return_Constraint=0.05);\n",
    "    solvetime_r = @elapsed optimize!(model_r)\n",
    "    @show buildtime_r\n",
    "    @show solvetime_r\n",
    "    res_mean[:, i] = value.(x)\n",
    "    res_obj[i] = objective_value(model_r)\n",
    "    @show objective_value(model_r)\n",
    "end"
   ]
  },
  {
   "cell_type": "code",
   "execution_count": 47,
   "metadata": {},
   "outputs": [
    {
     "name": "stdout",
     "output_type": "stream",
     "text": [
      "sum(res_mean .* return_mean, dims = 1) = [0.16015418514231392 0.7546014415479351 0.10456009896999974 0.0940513295260358 0.10663329506118682 0.20310225426394543 0.0936246978142851 0.07530891771944562 0.13708933697079032 0.17314561403498296 0.13528926079469697 0.10857931371440284 0.09447478468544186 0.12482413724445333 1.7635269768920512e-9 0.0841680726500781 3.3461971737723333e-10 2.440101563420648e-9 1.3010572688035946e-9 0.12157247348114193 0.07162233334001508 0.10917818412606502 0.07773197143629731 2.360890211407901e-9 0.0963012568796575 0.10033051675668035 0.07497994479584616 1.893872045036164e-11 1.1583623673914055e-11 5.380844050616696e-11]\n",
      "sum(sum(res_mean .* return_real, dims = 1) .<= 0.0) / 30 = 0.4666666666666667\n",
      "sum(res_obj) / 30 = 1.3064703062460888e7\n"
     ]
    }
   ],
   "source": [
    "res_mean\n",
    "@show sum(res_mean .* return_mean, dims=1)\n",
    "@show sum(sum(res_mean .* return_real, dims=1) .<= 0.00) / 30\n",
    "@show sum(res_obj)/30;"
   ]
  },
  {
   "cell_type": "code",
   "execution_count": 38,
   "metadata": {},
   "outputs": [
    {
     "name": "stdout",
     "output_type": "stream",
     "text": [
      "sum(res_mean .* return_real, dims = 1) = [4.7824392222330734e-11 2.2847569123002677e-12 -2.5887757211170598e-11 3.0934430211771686e-11 0.08147948405383186 -1.0385100162651227e-13 1.9791264308184735e-12 3.3376360647391784e-12 0.016691707516735967 -8.721322525137574e-12 8.43984254534255e-13 -2.721489791760461e-13 2.5568556349739814e-12 -1.6378824240673323e-11 8.324960350797576e-11 -4.140963055897689e-14 1.3084066878804998e-12 2.0931054472944132e-9 -3.684540202891969e-12 -0.1555756715852859 -1.2941373329532825e-12 1.3297673219600455e-11 -1.3105175210062265e-11 -1.388128997677225e-9 1.1179930787683501e-11 7.367206530021907e-12 -1.1547399260820283e-10 3.6553872555263884e-13 4.573402623831599e-12 -1.533647359170263e-12]\n"
     ]
    }
   ],
   "source": [
    "@show sum(res_mean .* return_real, dims=1);"
   ]
  },
  {
   "cell_type": "markdown",
   "metadata": {},
   "source": [
    "# 2. Robust Optimization"
   ]
  },
  {
   "cell_type": "markdown",
   "metadata": {},
   "source": [
    "## 2.1 RO_1: Return as constraint, Risk as objective"
   ]
  },
  {
   "cell_type": "code",
   "execution_count": null,
   "metadata": {},
   "outputs": [],
   "source": []
  }
 ],
 "metadata": {
  "kernelspec": {
   "display_name": "Julia 1.8.0",
   "language": "julia",
   "name": "julia-1.8"
  },
  "language_info": {
   "file_extension": ".jl",
   "mimetype": "application/julia",
   "name": "julia",
   "version": "1.8.0"
  }
 },
 "nbformat": 4,
 "nbformat_minor": 2
}
