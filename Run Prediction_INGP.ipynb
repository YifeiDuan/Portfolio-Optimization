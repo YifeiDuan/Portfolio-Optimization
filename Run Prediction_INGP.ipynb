{
 "cells": [
  {
   "cell_type": "code",
   "execution_count": 62,
   "metadata": {},
   "outputs": [
    {
     "name": "stdout",
     "output_type": "stream",
     "text": [
      "Fri Dec  9 19:26:36 2022       \r\n",
      "+-----------------------------------------------------------------------------+\r\n",
      "| NVIDIA-SMI 495.29.05    Driver Version: 495.29.05    CUDA Version: 11.5     |\r\n",
      "|-------------------------------+----------------------+----------------------+\r\n",
      "| GPU  Name        Persistence-M| Bus-Id        Disp.A | Volatile Uncorr. ECC |\r\n",
      "| Fan  Temp  Perf  Pwr:Usage/Cap|         Memory-Usage | GPU-Util  Compute M. |\r\n",
      "|                               |                      |               MIG M. |\r\n",
      "|===============================+======================+======================|\r\n",
      "|   0  NVIDIA RTX A5000    Off  | 00000000:31:00.0 Off |                  Off |\r\n",
      "| 30%   31C    P8    21W / 230W |   9817MiB / 24256MiB |      0%      Default |\r\n",
      "|                               |                      |                  N/A |\r\n",
      "+-------------------------------+----------------------+----------------------+\r\n",
      "|   1  NVIDIA RTX A5000    Off  | 00000000:4B:00.0 Off |                  Off |\r\n",
      "| 30%   31C    P8    18W / 230W |      8MiB / 24256MiB |      0%      Default |\r\n",
      "|                               |                      |                  N/A |\r\n",
      "+-------------------------------+----------------------+----------------------+\r\n",
      "|   2  NVIDIA RTX A5000    Off  | 00000000:B1:00.0 Off |                  Off |\r\n",
      "| 30%   32C    P8    19W / 230W |   6306MiB / 24256MiB |      0%      Default |\r\n",
      "|                               |                      |                  N/A |\r\n",
      "+-------------------------------+----------------------+----------------------+\r\n",
      "|   3  NVIDIA RTX A5000    Off  | 00000000:CA:00.0 Off |                  Off |\r\n",
      "| 30%   31C    P8    21W / 230W |   1273MiB / 24256MiB |      0%      Default |\r\n",
      "|                               |                      |                  N/A |\r\n",
      "+-------------------------------+----------------------+----------------------+\r\n",
      "                                                                               \r\n",
      "+-----------------------------------------------------------------------------+\r\n",
      "| Processes:                                                                  |\r\n",
      "|  GPU   GI   CI        PID   Type   Process name                  GPU Memory |\r\n",
      "|        ID   ID                                                   Usage      |\r\n",
      "|=============================================================================|\r\n",
      "|    0   N/A  N/A      2687      G   /usr/libexec/Xorg                   4MiB |\r\n",
      "|    0   N/A  N/A    370032      C   .../envs/6S898_DL/bin/python     2583MiB |\r\n",
      "|    0   N/A  N/A    408374      C   ...yn_gen_release/bin/python     3517MiB |\r\n",
      "|    0   N/A  N/A    465287      C   .../envs/6S898_DL/bin/python     3709MiB |\r\n",
      "|    1   N/A  N/A      2687      G   /usr/libexec/Xorg                   4MiB |\r\n",
      "|    2   N/A  N/A      2687      G   /usr/libexec/Xorg                   4MiB |\r\n",
      "|    2   N/A  N/A   1791234      C   ...da3/envs/yifei/bin/python     4861MiB |\r\n",
      "|    2   N/A  N/A   1821983      C   ...da3/envs/yifei/bin/python     1437MiB |\r\n",
      "|    3   N/A  N/A      2687      G   /usr/libexec/Xorg                   4MiB |\r\n",
      "|    3   N/A  N/A   1819447      C   ...da3/envs/yifei/bin/python     1265MiB |\r\n",
      "+-----------------------------------------------------------------------------+\r\n"
     ]
    }
   ],
   "source": [
    "!nvidia-smi"
   ]
  },
  {
   "cell_type": "code",
   "execution_count": 1,
   "metadata": {},
   "outputs": [],
   "source": [
    "import sys, os\n",
    "os.environ[\"CUDA_VISIBLE_DEVICES\"]=\"2\""
   ]
  },
  {
   "cell_type": "code",
   "execution_count": 2,
   "metadata": {},
   "outputs": [
    {
     "name": "stdout",
     "output_type": "stream",
     "text": [
      "1.13.0+cu117\n"
     ]
    }
   ],
   "source": [
    "import torch\n",
    "print(torch.__version__)\n",
    "torch.cuda.set_device(0)"
   ]
  },
  {
   "cell_type": "code",
   "execution_count": null,
   "metadata": {},
   "outputs": [],
   "source": [
    "torch.cuda.is_available()"
   ]
  },
  {
   "cell_type": "code",
   "execution_count": null,
   "metadata": {},
   "outputs": [],
   "source": [
    "torch.cuda.current_device()"
   ]
  },
  {
   "cell_type": "code",
   "execution_count": null,
   "metadata": {},
   "outputs": [],
   "source": [
    "torch.version.cuda"
   ]
  },
  {
   "cell_type": "code",
   "execution_count": 3,
   "metadata": {},
   "outputs": [],
   "source": [
    "import Models\n",
    "#import in_gp_modified as in_gp\n",
    "import in_gp_modified_2 as in_gp\n",
    "import numpy as np\n",
    "import pandas as pd\n",
    "import matplotlib.pyplot as plt\n",
    "import math\n",
    "from sklearn.model_selection import train_test_split\n",
    "import my_utils"
   ]
  },
  {
   "cell_type": "code",
   "execution_count": 4,
   "metadata": {},
   "outputs": [],
   "source": [
    "ts_data = np.loadtxt(open(\"ts_data.csv\",\"rb\"), delimiter=\",\")"
   ]
  },
  {
   "cell_type": "code",
   "execution_count": 5,
   "metadata": {},
   "outputs": [
    {
     "name": "stdout",
     "output_type": "stream",
     "text": [
      "(106251, 36)\n"
     ]
    }
   ],
   "source": [
    "print(ts_data.shape)"
   ]
  },
  {
   "cell_type": "markdown",
   "metadata": {},
   "source": [
    "# 0. Preprocess data that can be fed into models"
   ]
  },
  {
   "cell_type": "markdown",
   "metadata": {},
   "source": [
    "### Define input and output window length"
   ]
  },
  {
   "cell_type": "code",
   "execution_count": 6,
   "metadata": {},
   "outputs": [],
   "source": [
    "input_dim = 30\n",
    "#output_dim = 4\n",
    "output_dim = 1\n",
    "T_span = input_dim + output_dim\n",
    "n_id = 20"
   ]
  },
  {
   "cell_type": "markdown",
   "metadata": {},
   "source": [
    "# 2. GP Prediction"
   ]
  },
  {
   "cell_type": "markdown",
   "metadata": {},
   "source": [
    "## 2.2 INGP\n",
    "#### parameterizes company_id & 30-day prices to predict future returns (<= 5d)\n",
    "#### parameterize company id and day 1-30 prices, and then train_x are 2~35 time points, train_y are returns\n",
    "#### in prediction, input can merely be a one-day time point, and output will be espective return"
   ]
  },
  {
   "cell_type": "markdown",
   "metadata": {},
   "source": [
    "### 2.2.0 Data Preparation for INGP"
   ]
  },
  {
   "cell_type": "code",
   "execution_count": 7,
   "metadata": {},
   "outputs": [],
   "source": [
    "# Differentiate X and y\n",
    "z = ts_data[:,0:(input_dim+1)]\n",
    "x = np.arange(T_span-1)\n",
    "x = np.array([x for i in range(z.shape[0])])\n",
    "y_price = ts_data[:,1:(T_span+1)]\n",
    "y = np.diff(y_price, axis=1)/y_price[:,:-1]\n",
    "\n",
    "# Train Test Split With All Companies Included\n",
    "x_i = x[np.where(z[:,0]==0)]\n",
    "y_i = y[np.where(z[:,0]==0)]\n",
    "z_i = z[np.where(z[:,0]==0)]\n",
    "np_z_train, np_z_test, np_x_train, np_x_test, np_y_train, np_y_test = train_test_split(z_i, x_i, y_i, test_size = 0.2, random_state = 42)\n",
    "    \n",
    "for i in range(1, n_id):\n",
    "    x_i = x[np.where(z[:,0]==i)]\n",
    "    y_i = y[np.where(z[:,0]==i)]\n",
    "    z_i = z[np.where(z[:,0]==i)]\n",
    "    np_z_train_i, np_z_test_i, np_x_train_i, np_x_test_i, np_y_train_i, np_y_test_i = train_test_split(z_i, x_i, y_i, test_size = 0.2, random_state = 42)\n",
    "    \n",
    "    np_z_train = np.concatenate((np_z_train, np_z_train_i), axis=0)\n",
    "    np_z_test = np.concatenate((np_z_test, np_z_test_i), axis=0)\n",
    "    np_x_train = np.concatenate((np_x_train, np_x_train_i), axis=0)\n",
    "    np_x_test = np.concatenate((np_x_test, np_x_test_i), axis=0)\n",
    "    np_y_train = np.concatenate((np_y_train, np_y_train_i), axis=0)\n",
    "    np_y_test = np.concatenate((np_y_test, np_y_test_i), axis=0)\n",
    "\n",
    "# Reshuffle Entire Datasets\n",
    "idx = np.arange(np_z_train.shape[0])\n",
    "np.random.shuffle(idx)\n",
    "np_z_train, np_x_train, np_y_train = np_z_train[idx], np_x_train[idx], np_y_train[idx]\n",
    "\n",
    "idx = np.arange(np_z_test.shape[0])\n",
    "np.random.shuffle(idx)\n",
    "np_z_test, np_x_test, np_y_test = np_z_test[idx], np_x_test[idx], np_y_test[idx]"
   ]
  },
  {
   "cell_type": "code",
   "execution_count": 8,
   "metadata": {},
   "outputs": [],
   "source": [
    "# Standardize\n",
    "np_z_train = (np_z_train - np.mean(z, axis=0)) / np.std(z, axis=0)\n",
    "np_z_test = (np_z_test - np.mean(z, axis=0)) / np.std(z, axis=0)\n",
    "np_y_train = (np_y_train - np.mean(y, axis=0)) / np.std(y, axis=0)\n",
    "np_y_test = (np_y_test - np.mean(y, axis=0)) / np.std(y, axis=0)"
   ]
  },
  {
   "cell_type": "code",
   "execution_count": 9,
   "metadata": {},
   "outputs": [],
   "source": [
    "# Convert to Torch Tensor\n",
    "z_train = torch.tensor(np_z_train)\n",
    "z_test = torch.tensor(np_z_test)\n",
    "x_train = torch.tensor(np_x_train)\n",
    "x_test = torch.tensor(np_x_test)\n",
    "y_train = torch.tensor(np_y_train)\n",
    "y_test = torch.tensor(np_y_test)"
   ]
  },
  {
   "cell_type": "code",
   "execution_count": 10,
   "metadata": {},
   "outputs": [
    {
     "name": "stdout",
     "output_type": "stream",
     "text": [
      "torch.Size([84990, 31])\n",
      "torch.Size([21261, 31])\n",
      "torch.Size([84990, 30])\n",
      "torch.Size([21261, 30])\n",
      "torch.Size([84990, 30])\n",
      "torch.Size([21261, 30])\n"
     ]
    }
   ],
   "source": [
    "print(z_train.shape)\n",
    "print(z_test.shape)\n",
    "print(x_train.shape)\n",
    "print(x_test.shape)\n",
    "print(y_train.shape)\n",
    "print(y_test.shape)"
   ]
  },
  {
   "cell_type": "code",
   "execution_count": 39,
   "metadata": {},
   "outputs": [
    {
     "name": "stdout",
     "output_type": "stream",
     "text": [
      "[ 0.  1.  2.  3.  4.  5.  6.  7.  8.  9. 10. 11. 12. 13. 14. 15. 16. 17.\n",
      " 18. 19.]\n",
      "tensor([-1.8107, -1.6341, -1.4575, -1.2809, -1.1043, -0.9277, -0.7511, -0.5746,\n",
      "        -0.3980, -0.2214, -0.0448,  0.1318,  0.3084,  0.4850,  0.6616,  0.8381,\n",
      "         1.0147,  1.1913,  1.3679,  1.5445])\n"
     ]
    }
   ],
   "source": [
    "print(np.unique(z[:,0]))\n",
    "print(torch.unique(z_train[:,0]))"
   ]
  },
  {
   "cell_type": "markdown",
   "metadata": {},
   "source": [
    "### 2.2.1 Train INGP"
   ]
  },
  {
   "cell_type": "code",
   "execution_count": 11,
   "metadata": {},
   "outputs": [
    {
     "name": "stdout",
     "output_type": "stream",
     "text": [
      "10.253663494931812\n",
      "5.662961347399698\n",
      "tensor([ 0.,  1.,  2.,  3.,  4.,  5.,  6.,  7.,  8.,  9., 10., 11., 12., 13.,\n",
      "        14., 15., 16., 17., 18., 19.], dtype=torch.float64)\n"
     ]
    }
   ],
   "source": [
    "id_mean = np.mean(z, axis=0)[0]\n",
    "id_std = np.std(z, axis=0)[0]\n",
    "print(id_mean)\n",
    "print(id_std)\n",
    "print(torch.unique(z_train[:,0])*id_std + id_mean)"
   ]
  },
  {
   "cell_type": "code",
   "execution_count": 14,
   "metadata": {},
   "outputs": [
    {
     "name": "stdout",
     "output_type": "stream",
     "text": [
      "Iter 1/20 - Loss: 1411.757\n",
      "Iter 2/20 - Loss: 1412.266\n",
      "Iter 3/20 - Loss: 1433.714\n",
      "Iter 4/20 - Loss: 1399.943\n",
      "Iter 5/20 - Loss: 1454.145\n",
      "Iter 6/20 - Loss: 1466.011\n",
      "Iter 7/20 - Loss: 1369.028\n",
      "Iter 8/20 - Loss: 1462.794\n",
      "Iter 9/20 - Loss: 1411.471\n",
      "Iter 10/20 - Loss: 1423.597\n",
      "Iter 11/20 - Loss: 1441.161\n",
      "Iter 12/20 - Loss: 1371.731\n",
      "Iter 13/20 - Loss: 1398.458\n",
      "Iter 14/20 - Loss: 1412.898\n",
      "Iter 15/20 - Loss: 1454.919\n",
      "Iter 16/20 - Loss: 1429.965\n",
      "Iter 17/20 - Loss: 1417.336\n",
      "Iter 18/20 - Loss: 1446.605\n",
      "Iter 19/20 - Loss: 1438.039\n",
      "Iter 20/20 - Loss: 1397.794\n"
     ]
    }
   ],
   "source": [
    "INGP = in_gp.INGP(x_train, y_train, z_train, id_mean=id_mean, id_std=id_std, \n",
    "                  mean='zero', kernel='rbf', n_layers=1, hidden_dim=10)\n",
    "loss = INGP.fit(x_train, y_train, z_train, niter=20, lr=0.001, batch_size=1000)"
   ]
  },
  {
   "cell_type": "markdown",
   "metadata": {},
   "source": [
    "### 2.2.2 INGP Prediction"
   ]
  },
  {
   "cell_type": "code",
   "execution_count": 15,
   "metadata": {},
   "outputs": [],
   "source": [
    "cond = input_dim-1\n",
    "d = 1"
   ]
  },
  {
   "cell_type": "code",
   "execution_count": 16,
   "metadata": {},
   "outputs": [],
   "source": [
    "# evaluate and test\n",
    "# save trained params for MLP and set eval mode\n",
    "y_train_pred_INGP_mean, y_train_pred_INGP_cov = INGP.predict(x_train, z_train, cond=cond, d=d)\n",
    "y_test_pred_INGP_mean, y_test_pred_INGP_cov = INGP.predict(x_test, z_test, cond=cond, d=d)"
   ]
  },
  {
   "cell_type": "code",
   "execution_count": null,
   "metadata": {},
   "outputs": [],
   "source": [
    "#print(y_train_pred_INGP[0:100])\n",
    "#print(y_test_pred_INGP[0:100])\n",
    "#print(y_train_pred_INGP[0].mean)\n",
    "#print(y_test_pred_INGP[0].mean)\n",
    "#print(y_train_pred_INGP[2].variance)\n",
    "#print(y_test_pred_INGP[2].variance)\n",
    "#print(y_train_pred_INGP[2].covariance_matrix)\n",
    "#print(y_test_pred_INGP[2].covariance_matrix)\n",
    "\n",
    "#y_train_pred_INGP = y_train_pred_INGP.cpu().detach().numpy()\n",
    "#y_test_pred_INGP = y_test_pred_INGP.cpu().detach().numpy()"
   ]
  },
  {
   "cell_type": "markdown",
   "metadata": {},
   "source": [
    "### 2.2.3 INGP prediction result analysis & model performance evaluation"
   ]
  },
  {
   "cell_type": "code",
   "execution_count": 29,
   "metadata": {},
   "outputs": [
    {
     "name": "stdout",
     "output_type": "stream",
     "text": [
      "R2_train: -0.02116513046154589\n",
      "R2_test: -0.027252932605054347\n",
      "MAPE_train: 396127700113.412\n",
      "MAPE_test: 360385345327.46783\n"
     ]
    }
   ],
   "source": [
    "# Calculate R2 value\n",
    "from sklearn.metrics import r2_score\n",
    "R2_train = r2_score(np_y_train[:,cond:(cond+d)], y_train_pred_INGP_mean)\n",
    "R2_test = r2_score(np_y_test[:,cond:(cond+d)], y_test_pred_INGP_mean)\n",
    "print(\"R2_train: {R2}\".format(R2 = R2_train))\n",
    "print(\"R2_test: {R2}\".format(R2 = R2_test))\n",
    "\n",
    "# Calculate MAPE value\n",
    "from sklearn.metrics import mean_absolute_percentage_error\n",
    "MAPE_train = mean_absolute_percentage_error(np_y_train[:,cond:(cond+d)], y_train_pred_INGP_mean)\n",
    "MAPE_test = mean_absolute_percentage_error(np_y_test[:,cond:(cond+d)], y_test_pred_INGP_mean)\n",
    "print(\"MAPE_train: {MAPE}\".format(MAPE = MAPE_train))\n",
    "print(\"MAPE_test: {MAPE}\".format(MAPE = MAPE_test))"
   ]
  },
  {
   "cell_type": "markdown",
   "metadata": {},
   "source": [
    "## 2.2.4 INGP Model Save & Predict for Later Optimization"
   ]
  },
  {
   "cell_type": "markdown",
   "metadata": {},
   "source": [
    "### Save Model"
   ]
  },
  {
   "cell_type": "code",
   "execution_count": null,
   "metadata": {},
   "outputs": [],
   "source": [
    "ls_net = INGP.lengthscale_net.state_dict()\n",
    "sc_net = INGP.scale_net.state_dict()"
   ]
  },
  {
   "cell_type": "code",
   "execution_count": null,
   "metadata": {},
   "outputs": [],
   "source": [
    "torch.save({\"ls_net\": ls_net, \"sc_net\": sc_net}, \"MLP.pt\")"
   ]
  },
  {
   "cell_type": "markdown",
   "metadata": {},
   "source": [
    "### Get Newest Inputs: Comany_id + 30-d Prices"
   ]
  },
  {
   "cell_type": "code",
   "execution_count": 41,
   "metadata": {},
   "outputs": [],
   "source": [
    "raw = np.loadtxt(open(\"prices_final.csv\",\"rb\"), delimiter=\",\")"
   ]
  },
  {
   "cell_type": "code",
   "execution_count": 51,
   "metadata": {},
   "outputs": [
    {
     "name": "stdout",
     "output_type": "stream",
     "text": [
      "<class 'numpy.ndarray'>\n",
      "<class 'numpy.ndarray'>\n",
      "torch.Size([20, 31])\n"
     ]
    }
   ],
   "source": [
    "companies = np.unique(ts_data[:,0]).reshape(20,1)\n",
    "z_final = raw[:,(raw.shape[1]-30):]\n",
    "print(type(z_final))\n",
    "z_final = np.concatenate((companies, z_final), axis=1)\n",
    "print(type(z_final))\n",
    "z_final = (z_final - np.mean(z, axis=0)) / np.std(z, axis=0)\n",
    "z_final = torch.tensor(z_final)\n",
    "print(z_final.shape)"
   ]
  },
  {
   "cell_type": "code",
   "execution_count": 52,
   "metadata": {},
   "outputs": [
    {
     "name": "stdout",
     "output_type": "stream",
     "text": [
      "torch.Size([20, 30])\n"
     ]
    }
   ],
   "source": [
    "x_final = x_test[:20, :]\n",
    "print(x_final.shape)"
   ]
  },
  {
   "cell_type": "code",
   "execution_count": 58,
   "metadata": {},
   "outputs": [],
   "source": [
    "Return_mean, Return_cov = INGP.predict(x_final, z_final, cond=cond, d=1)"
   ]
  },
  {
   "cell_type": "code",
   "execution_count": 60,
   "metadata": {},
   "outputs": [],
   "source": [
    "#Return_mean = Return_mean*np.std(y, axis=0)[0] + np.mean(y, axis=0)[0]\n",
    "np.savetxt(\"Return_mean.csv\", Return_mean, delimiter=',')"
   ]
  },
  {
   "cell_type": "code",
   "execution_count": null,
   "metadata": {},
   "outputs": [],
   "source": []
  }
 ],
 "metadata": {
  "kernelspec": {
   "display_name": "yifei",
   "language": "python",
   "name": "yifei"
  },
  "language_info": {
   "codemirror_mode": {
    "name": "ipython",
    "version": 3
   },
   "file_extension": ".py",
   "mimetype": "text/x-python",
   "name": "python",
   "nbconvert_exporter": "python",
   "pygments_lexer": "ipython3",
   "version": "3.8.0"
  }
 },
 "nbformat": 4,
 "nbformat_minor": 2
}
