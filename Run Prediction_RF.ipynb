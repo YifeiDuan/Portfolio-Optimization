{
 "cells": [
  {
   "cell_type": "code",
   "execution_count": null,
   "metadata": {},
   "outputs": [],
   "source": [
    "!nvidia-smi"
   ]
  },
  {
   "cell_type": "code",
   "execution_count": 1,
   "metadata": {},
   "outputs": [],
   "source": [
    "import sys, os\n",
    "os.environ[\"CUDA_VISIBLE_DEVICES\"]=\"3\""
   ]
  },
  {
   "cell_type": "code",
   "execution_count": 2,
   "metadata": {},
   "outputs": [
    {
     "name": "stdout",
     "output_type": "stream",
     "text": [
      "1.13.0+cu117\n"
     ]
    }
   ],
   "source": [
    "import torch\n",
    "print(torch.__version__)\n",
    "torch.cuda.set_device(0)"
   ]
  },
  {
   "cell_type": "code",
   "execution_count": 3,
   "metadata": {},
   "outputs": [
    {
     "data": {
      "text/plain": [
       "True"
      ]
     },
     "execution_count": 3,
     "metadata": {},
     "output_type": "execute_result"
    }
   ],
   "source": [
    "torch.cuda.is_available()"
   ]
  },
  {
   "cell_type": "code",
   "execution_count": 4,
   "metadata": {},
   "outputs": [
    {
     "data": {
      "text/plain": [
       "0"
      ]
     },
     "execution_count": 4,
     "metadata": {},
     "output_type": "execute_result"
    }
   ],
   "source": [
    "torch.cuda.current_device()"
   ]
  },
  {
   "cell_type": "code",
   "execution_count": 5,
   "metadata": {},
   "outputs": [
    {
     "data": {
      "text/plain": [
       "'11.7'"
      ]
     },
     "execution_count": 5,
     "metadata": {},
     "output_type": "execute_result"
    }
   ],
   "source": [
    "torch.version.cuda"
   ]
  },
  {
   "cell_type": "code",
   "execution_count": 2,
   "metadata": {},
   "outputs": [],
   "source": [
    "import numpy as np\n",
    "import pandas as pd\n",
    "import matplotlib.pyplot as plt\n",
    "import math\n",
    "from sklearn.model_selection import train_test_split\n",
    "import my_utils"
   ]
  },
  {
   "cell_type": "code",
   "execution_count": 4,
   "metadata": {},
   "outputs": [],
   "source": [
    "ts_data = np.loadtxt(open(\"ts_data.csv\",\"rb\"), delimiter=\",\")"
   ]
  },
  {
   "cell_type": "code",
   "execution_count": 5,
   "metadata": {},
   "outputs": [
    {
     "name": "stdout",
     "output_type": "stream",
     "text": [
      "(106251, 36)\n"
     ]
    }
   ],
   "source": [
    "print(ts_data.shape)"
   ]
  },
  {
   "cell_type": "markdown",
   "metadata": {},
   "source": [
    "# 0. Preprocess data that can be fed into models"
   ]
  },
  {
   "cell_type": "markdown",
   "metadata": {},
   "source": [
    "### Define input and output window length"
   ]
  },
  {
   "cell_type": "code",
   "execution_count": 6,
   "metadata": {},
   "outputs": [],
   "source": [
    "input_dim = 30\n",
    "output_dim = 5\n",
    "T_span = input_dim + output_dim\n",
    "n_id = 20"
   ]
  },
  {
   "cell_type": "markdown",
   "metadata": {},
   "source": [
    "# 3. RF Prediction"
   ]
  },
  {
   "cell_type": "markdown",
   "metadata": {},
   "source": [
    "## 3.0 RF Data Preprocessing"
   ]
  },
  {
   "cell_type": "code",
   "execution_count": 7,
   "metadata": {},
   "outputs": [],
   "source": [
    "# Differentiate X and y\n",
    "X = ts_data[:,:(input_dim+1)]\n",
    "y_price = ts_data[:,input_dim:]\n",
    "y_return = np.diff(y_price, axis=1)/y_price[:,:-1]\n",
    "\n",
    "#Standardization\n",
    "mu_X, std_X, X = my_utils.standardization(X)\n",
    "mu_y, std_y, y = my_utils.standardization(y_return)\n",
    "\n",
    "\n",
    "# Train Test Split With All Companies Included\n",
    "X_i = X[np.where(ts_data[:,0]==0)]\n",
    "y_i = y[np.where(ts_data[:,0]==0)]\n",
    "X_train, X_test, y_train, y_test = train_test_split(X_i, y_i, test_size = 0.2, random_state = 42)\n",
    "    \n",
    "for i in range(1, n_id):\n",
    "    X_i = X[np.where(ts_data[:,0]==i)]\n",
    "    y_i = y[np.where(ts_data[:,0]==i)]\n",
    "    X_train_i, X_test_i, y_train_i, y_test_i = train_test_split(X_i, y_i, test_size = 0.2, random_state = 42)\n",
    "\n",
    "    X_train = np.concatenate((X_train, X_train_i), axis=0)\n",
    "    X_test = np.concatenate((X_test, X_test_i), axis=0)\n",
    "    y_train = np.concatenate((y_train, y_train_i), axis=0)\n",
    "    y_test = np.concatenate((y_test, y_test_i), axis=0)\n",
    "\n",
    "\n",
    "# Reshuffle Entire Datasets\n",
    "idx = np.arange(X_train.shape[0])\n",
    "np.random.shuffle(idx)\n",
    "X_train, y_train = X_train[idx], y_train[idx]\n",
    "\n",
    "idx = np.arange(X_test.shape[0])\n",
    "np.random.shuffle(idx)\n",
    "X_test, y_test = X_test[idx], y_test[idx]"
   ]
  },
  {
   "cell_type": "code",
   "execution_count": 8,
   "metadata": {},
   "outputs": [
    {
     "name": "stdout",
     "output_type": "stream",
     "text": [
      "(84990, 31)\n",
      "(21261, 31)\n",
      "(84990, 5)\n",
      "(21261, 5)\n"
     ]
    }
   ],
   "source": [
    "print(X_train.shape)\n",
    "print(X_test.shape)\n",
    "print(y_train.shape)\n",
    "print(y_test.shape)"
   ]
  },
  {
   "cell_type": "markdown",
   "metadata": {},
   "source": [
    "## 3.1 RF Training"
   ]
  },
  {
   "cell_type": "code",
   "execution_count": 9,
   "metadata": {},
   "outputs": [
    {
     "data": {
      "text/html": [
       "<style>#sk-container-id-1 {color: black;background-color: white;}#sk-container-id-1 pre{padding: 0;}#sk-container-id-1 div.sk-toggleable {background-color: white;}#sk-container-id-1 label.sk-toggleable__label {cursor: pointer;display: block;width: 100%;margin-bottom: 0;padding: 0.3em;box-sizing: border-box;text-align: center;}#sk-container-id-1 label.sk-toggleable__label-arrow:before {content: \"▸\";float: left;margin-right: 0.25em;color: #696969;}#sk-container-id-1 label.sk-toggleable__label-arrow:hover:before {color: black;}#sk-container-id-1 div.sk-estimator:hover label.sk-toggleable__label-arrow:before {color: black;}#sk-container-id-1 div.sk-toggleable__content {max-height: 0;max-width: 0;overflow: hidden;text-align: left;background-color: #f0f8ff;}#sk-container-id-1 div.sk-toggleable__content pre {margin: 0.2em;color: black;border-radius: 0.25em;background-color: #f0f8ff;}#sk-container-id-1 input.sk-toggleable__control:checked~div.sk-toggleable__content {max-height: 200px;max-width: 100%;overflow: auto;}#sk-container-id-1 input.sk-toggleable__control:checked~label.sk-toggleable__label-arrow:before {content: \"▾\";}#sk-container-id-1 div.sk-estimator input.sk-toggleable__control:checked~label.sk-toggleable__label {background-color: #d4ebff;}#sk-container-id-1 div.sk-label input.sk-toggleable__control:checked~label.sk-toggleable__label {background-color: #d4ebff;}#sk-container-id-1 input.sk-hidden--visually {border: 0;clip: rect(1px 1px 1px 1px);clip: rect(1px, 1px, 1px, 1px);height: 1px;margin: -1px;overflow: hidden;padding: 0;position: absolute;width: 1px;}#sk-container-id-1 div.sk-estimator {font-family: monospace;background-color: #f0f8ff;border: 1px dotted black;border-radius: 0.25em;box-sizing: border-box;margin-bottom: 0.5em;}#sk-container-id-1 div.sk-estimator:hover {background-color: #d4ebff;}#sk-container-id-1 div.sk-parallel-item::after {content: \"\";width: 100%;border-bottom: 1px solid gray;flex-grow: 1;}#sk-container-id-1 div.sk-label:hover label.sk-toggleable__label {background-color: #d4ebff;}#sk-container-id-1 div.sk-serial::before {content: \"\";position: absolute;border-left: 1px solid gray;box-sizing: border-box;top: 0;bottom: 0;left: 50%;z-index: 0;}#sk-container-id-1 div.sk-serial {display: flex;flex-direction: column;align-items: center;background-color: white;padding-right: 0.2em;padding-left: 0.2em;position: relative;}#sk-container-id-1 div.sk-item {position: relative;z-index: 1;}#sk-container-id-1 div.sk-parallel {display: flex;align-items: stretch;justify-content: center;background-color: white;position: relative;}#sk-container-id-1 div.sk-item::before, #sk-container-id-1 div.sk-parallel-item::before {content: \"\";position: absolute;border-left: 1px solid gray;box-sizing: border-box;top: 0;bottom: 0;left: 50%;z-index: -1;}#sk-container-id-1 div.sk-parallel-item {display: flex;flex-direction: column;z-index: 1;position: relative;background-color: white;}#sk-container-id-1 div.sk-parallel-item:first-child::after {align-self: flex-end;width: 50%;}#sk-container-id-1 div.sk-parallel-item:last-child::after {align-self: flex-start;width: 50%;}#sk-container-id-1 div.sk-parallel-item:only-child::after {width: 0;}#sk-container-id-1 div.sk-dashed-wrapped {border: 1px dashed gray;margin: 0 0.4em 0.5em 0.4em;box-sizing: border-box;padding-bottom: 0.4em;background-color: white;}#sk-container-id-1 div.sk-label label {font-family: monospace;font-weight: bold;display: inline-block;line-height: 1.2em;}#sk-container-id-1 div.sk-label-container {text-align: center;}#sk-container-id-1 div.sk-container {/* jupyter's `normalize.less` sets `[hidden] { display: none; }` but bootstrap.min.css set `[hidden] { display: none !important; }` so we also need the `!important` here to be able to override the default hidden behavior on the sphinx rendered scikit-learn.org. See: https://github.com/scikit-learn/scikit-learn/issues/21755 */display: inline-block !important;position: relative;}#sk-container-id-1 div.sk-text-repr-fallback {display: none;}</style><div id=\"sk-container-id-1\" class=\"sk-top-container\"><div class=\"sk-text-repr-fallback\"><pre>RandomForestRegressor(max_features=3, random_state=42)</pre><b>In a Jupyter environment, please rerun this cell to show the HTML representation or trust the notebook. <br />On GitHub, the HTML representation is unable to render, please try loading this page with nbviewer.org.</b></div><div class=\"sk-container\" hidden><div class=\"sk-item\"><div class=\"sk-estimator sk-toggleable\"><input class=\"sk-toggleable__control sk-hidden--visually\" id=\"sk-estimator-id-1\" type=\"checkbox\" checked><label for=\"sk-estimator-id-1\" class=\"sk-toggleable__label sk-toggleable__label-arrow\">RandomForestRegressor</label><div class=\"sk-toggleable__content\"><pre>RandomForestRegressor(max_features=3, random_state=42)</pre></div></div></div></div></div>"
      ],
      "text/plain": [
       "RandomForestRegressor(max_features=3, random_state=42)"
      ]
     },
     "execution_count": 9,
     "metadata": {},
     "output_type": "execute_result"
    }
   ],
   "source": [
    "from sklearn.ensemble import RandomForestRegressor\n",
    "RF = RandomForestRegressor(n_estimators=100, random_state=42, max_features=3)\n",
    "RF.fit(X_train, y_train[:,0])"
   ]
  },
  {
   "cell_type": "markdown",
   "metadata": {},
   "source": [
    "## 3.2 RF Performance Evaluation"
   ]
  },
  {
   "cell_type": "code",
   "execution_count": 25,
   "metadata": {},
   "outputs": [],
   "source": [
    "y_train_pred_RF = RF.predict(X_train)\n",
    "y_test_pred_RF = RF.predict(X_test)"
   ]
  },
  {
   "cell_type": "code",
   "execution_count": 22,
   "metadata": {},
   "outputs": [
    {
     "name": "stdout",
     "output_type": "stream",
     "text": [
      "(84990, 5)\n",
      "(84990, 5)\n",
      "(21261, 5)\n",
      "(21261, 5)\n",
      "[0.0264163  0.02641753 0.02640583 0.02640844 0.02640861]\n",
      "[0.00094278 0.00093985 0.00093564 0.00094066 0.00093839]\n"
     ]
    }
   ],
   "source": [
    "\"\"\"\n",
    "# for reformation if standardization was used\n",
    "\n",
    "print(y_train.shape)\n",
    "print(y_train_pred_RF.shape)\n",
    "print(y_test.shape)\n",
    "print(y_test_pred_RF.shape)\n",
    "print(std_y)\n",
    "print(mu_y)\n",
    "\n",
    "y_train_reform = y_train*std_y + mu_y\n",
    "y_train_pred_RF_reform = y_train_pred_RF*std_y + mu_y\n",
    "\n",
    "y_test_reform = y_test*std_y + mu_y\n",
    "y_test_pred_RF_reform = y_test_pred_RF*std_y + mu_y\n",
    "\"\"\""
   ]
  },
  {
   "cell_type": "code",
   "execution_count": 26,
   "metadata": {},
   "outputs": [
    {
     "name": "stdout",
     "output_type": "stream",
     "text": [
      "(84990,)\n",
      "(84990,)\n",
      "(21261,)\n",
      "(21261,)\n",
      "[0.0264163  0.02641753 0.02640583 0.02640844 0.02640861]\n",
      "[0.00094278 0.00093985 0.00093564 0.00094066 0.00093839]\n"
     ]
    }
   ],
   "source": [
    "# for reformation if standardization was used\n",
    "\n",
    "print(y_train[:,0].shape)\n",
    "print(y_train_pred_RF.shape)\n",
    "print(y_test[:,0].shape)\n",
    "print(y_test_pred_RF.shape)\n",
    "print(std_y)\n",
    "print(mu_y)\n",
    "\n",
    "y_train_reform = y_train[:,0]*std_y[0] + mu_y[0]\n",
    "y_train_pred_RF_reform = y_train_pred_RF*std_y[0] + mu_y[0]\n",
    "\n",
    "y_test_reform = y_test[:,0]*std_y[0] + mu_y[0]\n",
    "y_test_pred_RF_reform = y_test_pred_RF*std_y[0] + mu_y[0]"
   ]
  },
  {
   "cell_type": "code",
   "execution_count": 27,
   "metadata": {},
   "outputs": [
    {
     "name": "stdout",
     "output_type": "stream",
     "text": [
      "R2_train: 0.8553883367897561\n",
      "R2_test: -0.02794744091940471\n"
     ]
    }
   ],
   "source": [
    "# Calculate R2 value\n",
    "from sklearn.metrics import r2_score\n",
    "R2_train = r2_score(y_train_reform, y_train_pred_RF_reform)\n",
    "R2_test = r2_score(y_test_reform, y_test_pred_RF_reform)\n",
    "\n",
    "print('R2_train: {val}'.format(val = R2_train))\n",
    "print('R2_test: {val}'.format(val = R2_test))"
   ]
  },
  {
   "cell_type": "markdown",
   "metadata": {},
   "source": [
    "# 3.3 Get Data Needed for Optimization"
   ]
  },
  {
   "cell_type": "markdown",
   "metadata": {},
   "source": [
    "### 3.3.0 Save and Load Trained Model"
   ]
  },
  {
   "cell_type": "code",
   "execution_count": null,
   "metadata": {},
   "outputs": [],
   "source": [
    "from sklearn.externals import joblib\n",
    "# Save to file in the current working directory\n",
    "joblib_file = \"RF_pred1d_nEstimators100_maxFeat3.pkl\"\n",
    "joblib.dump(RF, joblib_file)"
   ]
  },
  {
   "cell_type": "code",
   "execution_count": null,
   "metadata": {},
   "outputs": [],
   "source": [
    "\"\"\"\n",
    "# Load from file\n",
    "RF = joblib.load(joblib_file)\n",
    "# Calculate the accuracy and predictions\n",
    "score = RF.score(Xtest, Ytest)\n",
    "print(\"Test score: {0:.2f} %\".format(100 * score))\n",
    "Ypredict = RF.predict(Xtest)\n",
    "\"\"\""
   ]
  },
  {
   "cell_type": "markdown",
   "metadata": {},
   "source": [
    "### 3.3.1 Get Newest Inputs: Comany_id + 30-d Prices"
   ]
  },
  {
   "cell_type": "code",
   "execution_count": 32,
   "metadata": {},
   "outputs": [],
   "source": [
    "raw_df = pd.read_csv('raw.csv', sep=',')"
   ]
  },
  {
   "cell_type": "code",
   "execution_count": 33,
   "metadata": {},
   "outputs": [],
   "source": [
    "raw = raw_df.values.T[1:]"
   ]
  },
  {
   "cell_type": "code",
   "execution_count": 34,
   "metadata": {},
   "outputs": [
    {
     "name": "stdout",
     "output_type": "stream",
     "text": [
      "(20, 31)\n"
     ]
    }
   ],
   "source": [
    "companies = np.unique(ts_data[:,0]).reshape(20,1)\n",
    "X_final = raw[:,(raw.shape[1]-30):]\n",
    "X_final = np.concatenate((companies, X_final), axis=1)\n",
    "print(X_final.shape)"
   ]
  },
  {
   "cell_type": "code",
   "execution_count": null,
   "metadata": {},
   "outputs": [],
   "source": [
    "print(X_final)"
   ]
  },
  {
   "cell_type": "markdown",
   "metadata": {},
   "source": [
    "### 3.3.2 Get Prediction Mean for 20 Companies"
   ]
  },
  {
   "cell_type": "code",
   "execution_count": 35,
   "metadata": {},
   "outputs": [],
   "source": [
    "Return_mean = RF.predict(X_final)"
   ]
  },
  {
   "cell_type": "code",
   "execution_count": 37,
   "metadata": {},
   "outputs": [],
   "source": [
    "np.savetxt(\"Return_mean.csv\", Return_mean, delimiter=',')"
   ]
  },
  {
   "cell_type": "markdown",
   "metadata": {},
   "source": [
    "### 3.3.3 Get Distribution Variance of Predictions from All Regressors"
   ]
  },
  {
   "cell_type": "code",
   "execution_count": 36,
   "metadata": {},
   "outputs": [],
   "source": [
    "numberTrees = 100"
   ]
  },
  {
   "cell_type": "code",
   "execution_count": 37,
   "metadata": {},
   "outputs": [
    {
     "name": "stdout",
     "output_type": "stream",
     "text": [
      "(100, 20)\n"
     ]
    }
   ],
   "source": [
    "pred_all = []\n",
    "for tree in range(numberTrees):\n",
    "    pred_all.append(RF.estimators_[tree].predict(X_final)*std_y[0]+mu_y[0])\n",
    "pred_all = np.array(pred_all)\n",
    "print(pred_all.shape)"
   ]
  },
  {
   "cell_type": "code",
   "execution_count": 51,
   "metadata": {},
   "outputs": [
    {
     "name": "stdout",
     "output_type": "stream",
     "text": [
      "[1.19944256 1.1975316  1.1975316  1.1975316  1.1975316  0.93112443\n",
      " 0.81367212 1.1975316  1.1975316  1.1975316  1.1975316  1.1975316\n",
      " 0.87391744 1.1975316  1.16076412 1.1975316  1.1975316  1.1975316\n",
      " 1.1975316  1.1975316 ]\n"
     ]
    }
   ],
   "source": [
    "Return_std = np.std(pred_all, axis=0)\n",
    "print(Return_std)"
   ]
  },
  {
   "cell_type": "code",
   "execution_count": 38,
   "metadata": {},
   "outputs": [],
   "source": [
    "np.savetxt(\"Return_std.csv\", Return_std, delimiter=',')"
   ]
  },
  {
   "cell_type": "markdown",
   "metadata": {},
   "source": [
    "# 3.4 Benchmark Prediction"
   ]
  },
  {
   "cell_type": "code",
   "execution_count": 10,
   "metadata": {},
   "outputs": [],
   "source": [
    "prices_final = np.loadtxt(open(\"prices_final.csv\",\"rb\"), delimiter=\",\")\n",
    "return_final = np.loadtxt(open(\"return_final.csv\",\"rb\"), delimiter=\",\")"
   ]
  },
  {
   "cell_type": "code",
   "execution_count": null,
   "metadata": {},
   "outputs": [],
   "source": [
    "test = np.concatenate((prices_final[:,0].reshape(20,1),prices_final[:, (31+i):(31+i+30)]), axis=1)\n",
    "print((test-mu_X)/std_X)"
   ]
  },
  {
   "cell_type": "code",
   "execution_count": 21,
   "metadata": {},
   "outputs": [
    {
     "name": "stdout",
     "output_type": "stream",
     "text": [
      "(20, 30)\n"
     ]
    }
   ],
   "source": [
    "y_BMpred = np.zeros((20,30))\n",
    "for i in range(30):\n",
    "    X_BM = np.concatenate((prices_final[:,0].reshape(20,1),prices_final[:, (31+i):(31+i+30)]), axis=1)\n",
    "    X_BM = (X_BM - mu_X) / (std_X)\n",
    "    y_BMpred[:,i] = RF.predict(X_BM)\n",
    "    \n",
    "print(y_BMpred.shape)"
   ]
  },
  {
   "cell_type": "code",
   "execution_count": 23,
   "metadata": {},
   "outputs": [],
   "source": [
    "y_BMpred = y_BMpred*std_y[0] + mu_y[0]\n",
    "np.savetxt(\"Return_mean_RF.csv\", y_BMpred, delimiter=',')"
   ]
  },
  {
   "cell_type": "markdown",
   "metadata": {},
   "source": [
    "### Prediction Variance"
   ]
  },
  {
   "cell_type": "code",
   "execution_count": 25,
   "metadata": {},
   "outputs": [],
   "source": [
    "numberTrees = 100"
   ]
  },
  {
   "cell_type": "code",
   "execution_count": 29,
   "metadata": {},
   "outputs": [
    {
     "name": "stdout",
     "output_type": "stream",
     "text": [
      "(20, 30)\n"
     ]
    }
   ],
   "source": [
    "Return_std = []\n",
    "for i in range(30):\n",
    "    X_BM = np.concatenate((prices_final[:,0].reshape(20,1),prices_final[:, (31+i):(31+i+30)]), axis=1)\n",
    "    X_BM = (X_BM - mu_X) / (std_X)\n",
    "    \n",
    "    pred_all = []\n",
    "    for tree in range(numberTrees):\n",
    "        tree_pred = RF.estimators_[tree].predict(X_BM)\n",
    "        tree_pred = tree_pred*std_y[0] + mu_y[0]\n",
    "        pred_all.append(tree_pred)\n",
    "    pred_all = np.array(pred_all)\n",
    "    #print(pred_all.shape)\n",
    "    std = np.std(pred_all, axis=0)\n",
    "    Return_std.append(std)\n",
    "Return_std = np.array(Return_std).T\n",
    "print(Return_std.shape)\n",
    "#print(pred_all.shape)"
   ]
  },
  {
   "cell_type": "code",
   "execution_count": 41,
   "metadata": {},
   "outputs": [],
   "source": [
    "Return_UB = y_BMpred + Return_std*0.5\n",
    "Return_LB = y_BMpred - Return_std*0.5\n",
    "np.savetxt(\"Return_UB_RF.csv\", Return_UB, delimiter=',')\n",
    "np.savetxt(\"Return_LB_RF.csv\", Return_LB, delimiter=',')"
   ]
  },
  {
   "cell_type": "code",
   "execution_count": null,
   "metadata": {},
   "outputs": [],
   "source": [
    "np.savetxt(\"Return_std.csv\", Return_std, delimiter=',')"
   ]
  },
  {
   "cell_type": "code",
   "execution_count": null,
   "metadata": {},
   "outputs": [],
   "source": []
  }
 ],
 "metadata": {
  "kernelspec": {
   "display_name": "yifei",
   "language": "python",
   "name": "yifei"
  },
  "language_info": {
   "codemirror_mode": {
    "name": "ipython",
    "version": 3
   },
   "file_extension": ".py",
   "mimetype": "text/x-python",
   "name": "python",
   "nbconvert_exporter": "python",
   "pygments_lexer": "ipython3",
   "version": "3.8.0"
  }
 },
 "nbformat": 4,
 "nbformat_minor": 2
}
